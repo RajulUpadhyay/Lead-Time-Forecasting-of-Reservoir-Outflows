{
  "cells": [
    {
      "cell_type": "code",
      "execution_count": null,
      "metadata": {
        "id": "vNcz-P1v67u3"
      },
      "outputs": [],
      "source": [
        "import numpy as np\n",
        "import pandas as pd\n",
        "from math import sqrt\n",
        "from numpy import concatenate\n",
        "from matplotlib import pyplot\n",
        "from pandas import read_csv\n",
        "from pandas import DataFrame\n",
        "from pandas import concat\n",
        "from sklearn.preprocessing import MinMaxScaler\n",
        "from sklearn.preprocessing import LabelEncoder\n",
        "from sklearn.metrics import mean_squared_error\n",
        "from sklearn.metrics import r2_score\n",
        "from sklearn.svm import SVR\n"
      ]
    },
    {
      "cell_type": "code",
      "execution_count": null,
      "metadata": {
        "colab": {
          "base_uri": "https://localhost:8080/"
        },
        "id": "ZJxd5bLZ7Hi-",
        "outputId": "b25ba29c-4158-49c6-9baf-854236a83f03"
      },
      "outputs": [
        {
          "output_type": "stream",
          "name": "stdout",
          "text": [
            "Mounted at /content/drive\n"
          ]
        }
      ],
      "source": [
        "from google.colab import drive\n",
        "drive.mount('/content/drive')"
      ]
    },
    {
      "cell_type": "code",
      "execution_count": null,
      "metadata": {
        "id": "jRALnlbr7RNC"
      },
      "outputs": [],
      "source": [
        "def series_to_supervised(data, n_in=1, n_out=1, dropnan=True):\n",
        "  #n_vars = 1 if type(data) is list else data.shape[1]\n",
        "  df = DataFrame(data)\n",
        "  cols, names = list(), list()\n",
        "# input sequence (t-n, ... t-1)\n",
        "  for i in range(n_in, 0, -1):\n",
        "    cols.append(df.shift(i))\n",
        "    names += [('var(t-%d)' % (i))] #for j in range(n_vars)]\n",
        "# forecast sequence (t, t+1, ... t+n)\n",
        "  for i in range(0, n_out):\n",
        "    cols.append(df.shift(-i))\n",
        "    if i == 0:\n",
        "      names += [('var(t)')] #for j in range(n_vars)]\n",
        "    else:\n",
        "      names += [('var(t+%d)' % (i))] #for j in range(n_vars)]\n",
        "# put it all together\n",
        "  agg = concat(cols, axis=1)\n",
        "  agg.columns = names\n",
        "# drop rows with NaN values\n",
        "  if dropnan:\n",
        "    agg.dropna(inplace=True)\n",
        "  return agg"
      ]
    },
    {
      "cell_type": "code",
      "execution_count": null,
      "metadata": {
        "id": "oO81foPs7Upu"
      },
      "outputs": [],
      "source": [
        "df = pd.read_excel('/content/res_data.xlsx', sheet_name='Sheet1')"
      ]
    },
    {
      "cell_type": "code",
      "execution_count": null,
      "metadata": {
        "colab": {
          "base_uri": "https://localhost:8080/",
          "height": 423
        },
        "id": "zDW9pCqv7aVV",
        "outputId": "76cc92e0-ab23-47b8-f2db-3c3add565654"
      },
      "outputs": [
        {
          "output_type": "execute_result",
          "data": {
            "text/plain": [
              "           Date    Outflow   Level     Inflow  Rainfall  Outflow,m3  Inflow,m3\n",
              "0    2000-01-01  37.731481  127.41  29.513889      0.00     3260000    2550000\n",
              "1    2000-01-02  23.611111  127.41  23.611111      0.00     2040000    2040000\n",
              "2    2000-01-03  40.162037  127.39  23.726852      0.00     3470000    2050000\n",
              "3    2000-01-04  14.930556  127.40  23.148148      0.00     1290000    2000000\n",
              "4    2000-01-05  24.074074  127.39  15.856481      0.00     2080000    1370000\n",
              "...         ...        ...     ...        ...       ...         ...        ...\n",
              "7300 2019-12-27  28.703704  128.85  19.791667      3.61     2480000    1710000\n",
              "7301 2019-12-28  28.472222  128.83  10.648148      0.00     2460000     920000\n",
              "7302 2019-12-29  28.703704  128.81  10.879630      0.00     2480000     940000\n",
              "7303 2019-12-30  42.939815  128.77   7.523148      0.00     3710000     650000\n",
              "7304 2019-12-31  42.824074  128.73   7.407407      0.00     3700000     640000\n",
              "\n",
              "[7305 rows x 7 columns]"
            ],
            "text/html": [
              "\n",
              "  <div id=\"df-259549cd-0cb7-4a88-89a0-379949bd3f98\">\n",
              "    <div class=\"colab-df-container\">\n",
              "      <div>\n",
              "<style scoped>\n",
              "    .dataframe tbody tr th:only-of-type {\n",
              "        vertical-align: middle;\n",
              "    }\n",
              "\n",
              "    .dataframe tbody tr th {\n",
              "        vertical-align: top;\n",
              "    }\n",
              "\n",
              "    .dataframe thead th {\n",
              "        text-align: right;\n",
              "    }\n",
              "</style>\n",
              "<table border=\"1\" class=\"dataframe\">\n",
              "  <thead>\n",
              "    <tr style=\"text-align: right;\">\n",
              "      <th></th>\n",
              "      <th>Date</th>\n",
              "      <th>Outflow</th>\n",
              "      <th>Level</th>\n",
              "      <th>Inflow</th>\n",
              "      <th>Rainfall</th>\n",
              "      <th>Outflow,m3</th>\n",
              "      <th>Inflow,m3</th>\n",
              "    </tr>\n",
              "  </thead>\n",
              "  <tbody>\n",
              "    <tr>\n",
              "      <th>0</th>\n",
              "      <td>2000-01-01</td>\n",
              "      <td>37.731481</td>\n",
              "      <td>127.41</td>\n",
              "      <td>29.513889</td>\n",
              "      <td>0.00</td>\n",
              "      <td>3260000</td>\n",
              "      <td>2550000</td>\n",
              "    </tr>\n",
              "    <tr>\n",
              "      <th>1</th>\n",
              "      <td>2000-01-02</td>\n",
              "      <td>23.611111</td>\n",
              "      <td>127.41</td>\n",
              "      <td>23.611111</td>\n",
              "      <td>0.00</td>\n",
              "      <td>2040000</td>\n",
              "      <td>2040000</td>\n",
              "    </tr>\n",
              "    <tr>\n",
              "      <th>2</th>\n",
              "      <td>2000-01-03</td>\n",
              "      <td>40.162037</td>\n",
              "      <td>127.39</td>\n",
              "      <td>23.726852</td>\n",
              "      <td>0.00</td>\n",
              "      <td>3470000</td>\n",
              "      <td>2050000</td>\n",
              "    </tr>\n",
              "    <tr>\n",
              "      <th>3</th>\n",
              "      <td>2000-01-04</td>\n",
              "      <td>14.930556</td>\n",
              "      <td>127.40</td>\n",
              "      <td>23.148148</td>\n",
              "      <td>0.00</td>\n",
              "      <td>1290000</td>\n",
              "      <td>2000000</td>\n",
              "    </tr>\n",
              "    <tr>\n",
              "      <th>4</th>\n",
              "      <td>2000-01-05</td>\n",
              "      <td>24.074074</td>\n",
              "      <td>127.39</td>\n",
              "      <td>15.856481</td>\n",
              "      <td>0.00</td>\n",
              "      <td>2080000</td>\n",
              "      <td>1370000</td>\n",
              "    </tr>\n",
              "    <tr>\n",
              "      <th>...</th>\n",
              "      <td>...</td>\n",
              "      <td>...</td>\n",
              "      <td>...</td>\n",
              "      <td>...</td>\n",
              "      <td>...</td>\n",
              "      <td>...</td>\n",
              "      <td>...</td>\n",
              "    </tr>\n",
              "    <tr>\n",
              "      <th>7300</th>\n",
              "      <td>2019-12-27</td>\n",
              "      <td>28.703704</td>\n",
              "      <td>128.85</td>\n",
              "      <td>19.791667</td>\n",
              "      <td>3.61</td>\n",
              "      <td>2480000</td>\n",
              "      <td>1710000</td>\n",
              "    </tr>\n",
              "    <tr>\n",
              "      <th>7301</th>\n",
              "      <td>2019-12-28</td>\n",
              "      <td>28.472222</td>\n",
              "      <td>128.83</td>\n",
              "      <td>10.648148</td>\n",
              "      <td>0.00</td>\n",
              "      <td>2460000</td>\n",
              "      <td>920000</td>\n",
              "    </tr>\n",
              "    <tr>\n",
              "      <th>7302</th>\n",
              "      <td>2019-12-29</td>\n",
              "      <td>28.703704</td>\n",
              "      <td>128.81</td>\n",
              "      <td>10.879630</td>\n",
              "      <td>0.00</td>\n",
              "      <td>2480000</td>\n",
              "      <td>940000</td>\n",
              "    </tr>\n",
              "    <tr>\n",
              "      <th>7303</th>\n",
              "      <td>2019-12-30</td>\n",
              "      <td>42.939815</td>\n",
              "      <td>128.77</td>\n",
              "      <td>7.523148</td>\n",
              "      <td>0.00</td>\n",
              "      <td>3710000</td>\n",
              "      <td>650000</td>\n",
              "    </tr>\n",
              "    <tr>\n",
              "      <th>7304</th>\n",
              "      <td>2019-12-31</td>\n",
              "      <td>42.824074</td>\n",
              "      <td>128.73</td>\n",
              "      <td>7.407407</td>\n",
              "      <td>0.00</td>\n",
              "      <td>3700000</td>\n",
              "      <td>640000</td>\n",
              "    </tr>\n",
              "  </tbody>\n",
              "</table>\n",
              "<p>7305 rows × 7 columns</p>\n",
              "</div>\n",
              "      <button class=\"colab-df-convert\" onclick=\"convertToInteractive('df-259549cd-0cb7-4a88-89a0-379949bd3f98')\"\n",
              "              title=\"Convert this dataframe to an interactive table.\"\n",
              "              style=\"display:none;\">\n",
              "        \n",
              "  <svg xmlns=\"http://www.w3.org/2000/svg\" height=\"24px\"viewBox=\"0 0 24 24\"\n",
              "       width=\"24px\">\n",
              "    <path d=\"M0 0h24v24H0V0z\" fill=\"none\"/>\n",
              "    <path d=\"M18.56 5.44l.94 2.06.94-2.06 2.06-.94-2.06-.94-.94-2.06-.94 2.06-2.06.94zm-11 1L8.5 8.5l.94-2.06 2.06-.94-2.06-.94L8.5 2.5l-.94 2.06-2.06.94zm10 10l.94 2.06.94-2.06 2.06-.94-2.06-.94-.94-2.06-.94 2.06-2.06.94z\"/><path d=\"M17.41 7.96l-1.37-1.37c-.4-.4-.92-.59-1.43-.59-.52 0-1.04.2-1.43.59L10.3 9.45l-7.72 7.72c-.78.78-.78 2.05 0 2.83L4 21.41c.39.39.9.59 1.41.59.51 0 1.02-.2 1.41-.59l7.78-7.78 2.81-2.81c.8-.78.8-2.07 0-2.86zM5.41 20L4 18.59l7.72-7.72 1.47 1.35L5.41 20z\"/>\n",
              "  </svg>\n",
              "      </button>\n",
              "      \n",
              "  <style>\n",
              "    .colab-df-container {\n",
              "      display:flex;\n",
              "      flex-wrap:wrap;\n",
              "      gap: 12px;\n",
              "    }\n",
              "\n",
              "    .colab-df-convert {\n",
              "      background-color: #E8F0FE;\n",
              "      border: none;\n",
              "      border-radius: 50%;\n",
              "      cursor: pointer;\n",
              "      display: none;\n",
              "      fill: #1967D2;\n",
              "      height: 32px;\n",
              "      padding: 0 0 0 0;\n",
              "      width: 32px;\n",
              "    }\n",
              "\n",
              "    .colab-df-convert:hover {\n",
              "      background-color: #E2EBFA;\n",
              "      box-shadow: 0px 1px 2px rgba(60, 64, 67, 0.3), 0px 1px 3px 1px rgba(60, 64, 67, 0.15);\n",
              "      fill: #174EA6;\n",
              "    }\n",
              "\n",
              "    [theme=dark] .colab-df-convert {\n",
              "      background-color: #3B4455;\n",
              "      fill: #D2E3FC;\n",
              "    }\n",
              "\n",
              "    [theme=dark] .colab-df-convert:hover {\n",
              "      background-color: #434B5C;\n",
              "      box-shadow: 0px 1px 3px 1px rgba(0, 0, 0, 0.15);\n",
              "      filter: drop-shadow(0px 1px 2px rgba(0, 0, 0, 0.3));\n",
              "      fill: #FFFFFF;\n",
              "    }\n",
              "  </style>\n",
              "\n",
              "      <script>\n",
              "        const buttonEl =\n",
              "          document.querySelector('#df-259549cd-0cb7-4a88-89a0-379949bd3f98 button.colab-df-convert');\n",
              "        buttonEl.style.display =\n",
              "          google.colab.kernel.accessAllowed ? 'block' : 'none';\n",
              "\n",
              "        async function convertToInteractive(key) {\n",
              "          const element = document.querySelector('#df-259549cd-0cb7-4a88-89a0-379949bd3f98');\n",
              "          const dataTable =\n",
              "            await google.colab.kernel.invokeFunction('convertToInteractive',\n",
              "                                                     [key], {});\n",
              "          if (!dataTable) return;\n",
              "\n",
              "          const docLinkHtml = 'Like what you see? Visit the ' +\n",
              "            '<a target=\"_blank\" href=https://colab.research.google.com/notebooks/data_table.ipynb>data table notebook</a>'\n",
              "            + ' to learn more about interactive tables.';\n",
              "          element.innerHTML = '';\n",
              "          dataTable['output_type'] = 'display_data';\n",
              "          await google.colab.output.renderOutput(dataTable, element);\n",
              "          const docLink = document.createElement('div');\n",
              "          docLink.innerHTML = docLinkHtml;\n",
              "          element.appendChild(docLink);\n",
              "        }\n",
              "      </script>\n",
              "    </div>\n",
              "  </div>\n",
              "  "
            ]
          },
          "metadata": {},
          "execution_count": 8
        }
      ],
      "source": [
        "df"
      ]
    },
    {
      "cell_type": "code",
      "execution_count": null,
      "metadata": {
        "id": "ggYOzyK77eR4"
      },
      "outputs": [],
      "source": [
        "cols = list(df)[1:5]\n",
        "data = df[cols].astype(float)"
      ]
    },
    {
      "cell_type": "code",
      "execution_count": null,
      "metadata": {
        "colab": {
          "base_uri": "https://localhost:8080/",
          "height": 423
        },
        "id": "OSlk6HFS7eVr",
        "outputId": "8002b374-ecc6-40f7-c428-f446f69ffe69"
      },
      "outputs": [
        {
          "output_type": "execute_result",
          "data": {
            "text/plain": [
              "        Outflow   Level     Inflow  Rainfall\n",
              "0     37.731481  127.41  29.513889      0.00\n",
              "1     23.611111  127.41  23.611111      0.00\n",
              "2     40.162037  127.39  23.726852      0.00\n",
              "3     14.930556  127.40  23.148148      0.00\n",
              "4     24.074074  127.39  15.856481      0.00\n",
              "...         ...     ...        ...       ...\n",
              "7300  28.703704  128.85  19.791667      3.61\n",
              "7301  28.472222  128.83  10.648148      0.00\n",
              "7302  28.703704  128.81  10.879630      0.00\n",
              "7303  42.939815  128.77   7.523148      0.00\n",
              "7304  42.824074  128.73   7.407407      0.00\n",
              "\n",
              "[7305 rows x 4 columns]"
            ],
            "text/html": [
              "\n",
              "  <div id=\"df-46b30734-00c0-453a-8888-61f10c15ee1e\">\n",
              "    <div class=\"colab-df-container\">\n",
              "      <div>\n",
              "<style scoped>\n",
              "    .dataframe tbody tr th:only-of-type {\n",
              "        vertical-align: middle;\n",
              "    }\n",
              "\n",
              "    .dataframe tbody tr th {\n",
              "        vertical-align: top;\n",
              "    }\n",
              "\n",
              "    .dataframe thead th {\n",
              "        text-align: right;\n",
              "    }\n",
              "</style>\n",
              "<table border=\"1\" class=\"dataframe\">\n",
              "  <thead>\n",
              "    <tr style=\"text-align: right;\">\n",
              "      <th></th>\n",
              "      <th>Outflow</th>\n",
              "      <th>Level</th>\n",
              "      <th>Inflow</th>\n",
              "      <th>Rainfall</th>\n",
              "    </tr>\n",
              "  </thead>\n",
              "  <tbody>\n",
              "    <tr>\n",
              "      <th>0</th>\n",
              "      <td>37.731481</td>\n",
              "      <td>127.41</td>\n",
              "      <td>29.513889</td>\n",
              "      <td>0.00</td>\n",
              "    </tr>\n",
              "    <tr>\n",
              "      <th>1</th>\n",
              "      <td>23.611111</td>\n",
              "      <td>127.41</td>\n",
              "      <td>23.611111</td>\n",
              "      <td>0.00</td>\n",
              "    </tr>\n",
              "    <tr>\n",
              "      <th>2</th>\n",
              "      <td>40.162037</td>\n",
              "      <td>127.39</td>\n",
              "      <td>23.726852</td>\n",
              "      <td>0.00</td>\n",
              "    </tr>\n",
              "    <tr>\n",
              "      <th>3</th>\n",
              "      <td>14.930556</td>\n",
              "      <td>127.40</td>\n",
              "      <td>23.148148</td>\n",
              "      <td>0.00</td>\n",
              "    </tr>\n",
              "    <tr>\n",
              "      <th>4</th>\n",
              "      <td>24.074074</td>\n",
              "      <td>127.39</td>\n",
              "      <td>15.856481</td>\n",
              "      <td>0.00</td>\n",
              "    </tr>\n",
              "    <tr>\n",
              "      <th>...</th>\n",
              "      <td>...</td>\n",
              "      <td>...</td>\n",
              "      <td>...</td>\n",
              "      <td>...</td>\n",
              "    </tr>\n",
              "    <tr>\n",
              "      <th>7300</th>\n",
              "      <td>28.703704</td>\n",
              "      <td>128.85</td>\n",
              "      <td>19.791667</td>\n",
              "      <td>3.61</td>\n",
              "    </tr>\n",
              "    <tr>\n",
              "      <th>7301</th>\n",
              "      <td>28.472222</td>\n",
              "      <td>128.83</td>\n",
              "      <td>10.648148</td>\n",
              "      <td>0.00</td>\n",
              "    </tr>\n",
              "    <tr>\n",
              "      <th>7302</th>\n",
              "      <td>28.703704</td>\n",
              "      <td>128.81</td>\n",
              "      <td>10.879630</td>\n",
              "      <td>0.00</td>\n",
              "    </tr>\n",
              "    <tr>\n",
              "      <th>7303</th>\n",
              "      <td>42.939815</td>\n",
              "      <td>128.77</td>\n",
              "      <td>7.523148</td>\n",
              "      <td>0.00</td>\n",
              "    </tr>\n",
              "    <tr>\n",
              "      <th>7304</th>\n",
              "      <td>42.824074</td>\n",
              "      <td>128.73</td>\n",
              "      <td>7.407407</td>\n",
              "      <td>0.00</td>\n",
              "    </tr>\n",
              "  </tbody>\n",
              "</table>\n",
              "<p>7305 rows × 4 columns</p>\n",
              "</div>\n",
              "      <button class=\"colab-df-convert\" onclick=\"convertToInteractive('df-46b30734-00c0-453a-8888-61f10c15ee1e')\"\n",
              "              title=\"Convert this dataframe to an interactive table.\"\n",
              "              style=\"display:none;\">\n",
              "        \n",
              "  <svg xmlns=\"http://www.w3.org/2000/svg\" height=\"24px\"viewBox=\"0 0 24 24\"\n",
              "       width=\"24px\">\n",
              "    <path d=\"M0 0h24v24H0V0z\" fill=\"none\"/>\n",
              "    <path d=\"M18.56 5.44l.94 2.06.94-2.06 2.06-.94-2.06-.94-.94-2.06-.94 2.06-2.06.94zm-11 1L8.5 8.5l.94-2.06 2.06-.94-2.06-.94L8.5 2.5l-.94 2.06-2.06.94zm10 10l.94 2.06.94-2.06 2.06-.94-2.06-.94-.94-2.06-.94 2.06-2.06.94z\"/><path d=\"M17.41 7.96l-1.37-1.37c-.4-.4-.92-.59-1.43-.59-.52 0-1.04.2-1.43.59L10.3 9.45l-7.72 7.72c-.78.78-.78 2.05 0 2.83L4 21.41c.39.39.9.59 1.41.59.51 0 1.02-.2 1.41-.59l7.78-7.78 2.81-2.81c.8-.78.8-2.07 0-2.86zM5.41 20L4 18.59l7.72-7.72 1.47 1.35L5.41 20z\"/>\n",
              "  </svg>\n",
              "      </button>\n",
              "      \n",
              "  <style>\n",
              "    .colab-df-container {\n",
              "      display:flex;\n",
              "      flex-wrap:wrap;\n",
              "      gap: 12px;\n",
              "    }\n",
              "\n",
              "    .colab-df-convert {\n",
              "      background-color: #E8F0FE;\n",
              "      border: none;\n",
              "      border-radius: 50%;\n",
              "      cursor: pointer;\n",
              "      display: none;\n",
              "      fill: #1967D2;\n",
              "      height: 32px;\n",
              "      padding: 0 0 0 0;\n",
              "      width: 32px;\n",
              "    }\n",
              "\n",
              "    .colab-df-convert:hover {\n",
              "      background-color: #E2EBFA;\n",
              "      box-shadow: 0px 1px 2px rgba(60, 64, 67, 0.3), 0px 1px 3px 1px rgba(60, 64, 67, 0.15);\n",
              "      fill: #174EA6;\n",
              "    }\n",
              "\n",
              "    [theme=dark] .colab-df-convert {\n",
              "      background-color: #3B4455;\n",
              "      fill: #D2E3FC;\n",
              "    }\n",
              "\n",
              "    [theme=dark] .colab-df-convert:hover {\n",
              "      background-color: #434B5C;\n",
              "      box-shadow: 0px 1px 3px 1px rgba(0, 0, 0, 0.15);\n",
              "      filter: drop-shadow(0px 1px 2px rgba(0, 0, 0, 0.3));\n",
              "      fill: #FFFFFF;\n",
              "    }\n",
              "  </style>\n",
              "\n",
              "      <script>\n",
              "        const buttonEl =\n",
              "          document.querySelector('#df-46b30734-00c0-453a-8888-61f10c15ee1e button.colab-df-convert');\n",
              "        buttonEl.style.display =\n",
              "          google.colab.kernel.accessAllowed ? 'block' : 'none';\n",
              "\n",
              "        async function convertToInteractive(key) {\n",
              "          const element = document.querySelector('#df-46b30734-00c0-453a-8888-61f10c15ee1e');\n",
              "          const dataTable =\n",
              "            await google.colab.kernel.invokeFunction('convertToInteractive',\n",
              "                                                     [key], {});\n",
              "          if (!dataTable) return;\n",
              "\n",
              "          const docLinkHtml = 'Like what you see? Visit the ' +\n",
              "            '<a target=\"_blank\" href=https://colab.research.google.com/notebooks/data_table.ipynb>data table notebook</a>'\n",
              "            + ' to learn more about interactive tables.';\n",
              "          element.innerHTML = '';\n",
              "          dataTable['output_type'] = 'display_data';\n",
              "          await google.colab.output.renderOutput(dataTable, element);\n",
              "          const docLink = document.createElement('div');\n",
              "          docLink.innerHTML = docLinkHtml;\n",
              "          element.appendChild(docLink);\n",
              "        }\n",
              "      </script>\n",
              "    </div>\n",
              "  </div>\n",
              "  "
            ]
          },
          "metadata": {},
          "execution_count": 10
        }
      ],
      "source": [
        "data"
      ]
    },
    {
      "cell_type": "code",
      "execution_count": null,
      "metadata": {
        "id": "YF4EvzT17fv-"
      },
      "outputs": [],
      "source": [
        "#converting data into array\n",
        "values = data.values"
      ]
    },
    {
      "cell_type": "code",
      "execution_count": null,
      "metadata": {
        "colab": {
          "base_uri": "https://localhost:8080/"
        },
        "id": "ASIxeMnd7f64",
        "outputId": "99f8dc32-05a7-47ed-d1a1-49706a2415ce"
      },
      "outputs": [
        {
          "output_type": "execute_result",
          "data": {
            "text/plain": [
              "(7305, 4)"
            ]
          },
          "metadata": {},
          "execution_count": 12
        }
      ],
      "source": [
        "values.shape"
      ]
    },
    {
      "cell_type": "code",
      "execution_count": null,
      "metadata": {
        "id": "kNrcKYTk7gAD"
      },
      "outputs": [],
      "source": [
        "# ensure all data is float\n",
        "values = values.astype('float32')"
      ]
    },
    {
      "cell_type": "code",
      "execution_count": null,
      "metadata": {
        "colab": {
          "base_uri": "https://localhost:8080/"
        },
        "id": "VTlgHnrf7gHm",
        "outputId": "6eea9e55-640b-416d-b64d-9f78c5c0ec38"
      },
      "outputs": [
        {
          "output_type": "execute_result",
          "data": {
            "text/plain": [
              "array([[ 37.73148  , 127.41     ,  29.51389  ,   0.       ],\n",
              "       [ 23.61111  , 127.41     ,  23.61111  ,   0.       ],\n",
              "       [ 40.162037 , 127.39     ,  23.726852 ,   0.       ],\n",
              "       ...,\n",
              "       [ 28.703703 , 128.81     ,  10.87963  ,   0.       ],\n",
              "       [ 42.939816 , 128.77     ,   7.523148 ,   0.       ],\n",
              "       [ 42.824074 , 128.73     ,   7.4074073,   0.       ]],\n",
              "      dtype=float32)"
            ]
          },
          "metadata": {},
          "execution_count": 14
        }
      ],
      "source": [
        "values"
      ]
    },
    {
      "cell_type": "code",
      "execution_count": null,
      "metadata": {
        "id": "UzgE4Mvw7gKF"
      },
      "outputs": [],
      "source": [
        "# normalize features\n",
        "scaler = MinMaxScaler(feature_range=(0, 1))\n",
        "scaled_values = scaler.fit_transform(values)\n"
      ]
    },
    {
      "cell_type": "code",
      "execution_count": null,
      "metadata": {
        "colab": {
          "base_uri": "https://localhost:8080/"
        },
        "id": "ek3GQ2Hs7gOJ",
        "outputId": "c82268a2-eb67-4a9e-e30d-6a53b612aa3a"
      },
      "outputs": [
        {
          "output_type": "execute_result",
          "data": {
            "text/plain": [
              "array([[0.00657656, 0.69470406, 0.00482124, 0.        ],\n",
              "       [0.00411539, 0.69470406, 0.00385699, 0.        ],\n",
              "       [0.0070002 , 0.69314575, 0.0038759 , 0.        ],\n",
              "       ...,\n",
              "       [0.00500303, 0.80373764, 0.00177724, 0.        ],\n",
              "       [0.00748437, 0.80062294, 0.00122894, 0.        ],\n",
              "       [0.00746419, 0.7975073 , 0.00121004, 0.        ]], dtype=float32)"
            ]
          },
          "metadata": {},
          "execution_count": 16
        }
      ],
      "source": [
        "scaled_values"
      ]
    },
    {
      "cell_type": "code",
      "execution_count": null,
      "metadata": {
        "id": "JE2yTlup7gQY"
      },
      "outputs": [],
      "source": [
        "O,L,I,R =scaled_values.T"
      ]
    },
    {
      "cell_type": "code",
      "execution_count": null,
      "metadata": {
        "id": "TFKMdFF97gUV"
      },
      "outputs": [],
      "source": [
        "Os = series_to_supervised(O,4,1)\n",
        "Ls = series_to_supervised(L,2,0)\n",
        "Is= series_to_supervised(I,2,0)\n",
        "Rs = series_to_supervised(R,1,0)"
      ]
    },
    {
      "cell_type": "code",
      "execution_count": null,
      "metadata": {
        "id": "rUvtEod67gbF"
      },
      "outputs": [],
      "source": [
        "dfs=[Os,Ls,Is,Rs]\n",
        "Input=pd.concat(dfs,axis=1,keys=range(1,len(dfs)+1))\n",
        "Input.columns = Input.columns.map('{0[1]}{0[0]}'.format)\n",
        "#Input = Input.iloc[3-0:]\n",
        "Input = Input.drop(Input.index[-3:])"
      ]
    },
    {
      "cell_type": "code",
      "execution_count": null,
      "metadata": {
        "colab": {
          "base_uri": "https://localhost:8080/",
          "height": 423
        },
        "id": "6NObXRNa8LGo",
        "outputId": "d42eeb02-f20c-43b6-84ab-d3f2d58e7ff9"
      },
      "outputs": [
        {
          "output_type": "execute_result",
          "data": {
            "text/plain": [
              "      var(t-4)1  var(t-3)1  var(t-2)1  var(t-1)1   var(t)1  var(t-2)2  \\\n",
              "4      0.006577   0.004115   0.007000   0.002602  0.004196   0.693146   \n",
              "5      0.004115   0.007000   0.002602   0.004196  0.008473   0.693925   \n",
              "6      0.007000   0.002602   0.004196   0.008473  0.007948   0.693146   \n",
              "7      0.002602   0.004196   0.008473   0.007948  0.007807   0.690810   \n",
              "8      0.004196   0.008473   0.007948   0.007807  0.007767   0.688474   \n",
              "...         ...        ...        ...        ...       ...        ...   \n",
              "7300   0.002986   0.002986   0.002986   0.005003  0.005003   0.809190   \n",
              "7301   0.002986   0.002986   0.005003   0.005003  0.004963   0.807632   \n",
              "7302   0.002986   0.005003   0.005003   0.004963  0.005003   0.806854   \n",
              "7303   0.005003   0.005003   0.004963   0.005003  0.007484   0.805296   \n",
              "7304   0.005003   0.004963   0.005003   0.007484  0.007464   0.803738   \n",
              "\n",
              "      var(t-1)2  var(t-2)3  var(t-1)3  var(t-1)4  \n",
              "4      0.693925   0.003876   0.003781   0.000000  \n",
              "5      0.693146   0.003781   0.002590   0.000000  \n",
              "6      0.690810   0.002590   0.003933   0.000000  \n",
              "7      0.688474   0.003933   0.003441   0.000000  \n",
              "8      0.686137   0.003441   0.003328   0.000000  \n",
              "...         ...        ...        ...        ...  \n",
              "7300   0.807632   0.000000   0.001777   0.024400  \n",
              "7301   0.806854   0.001777   0.003233   0.018902  \n",
              "7302   0.805296   0.003233   0.001739   0.000000  \n",
              "7303   0.803738   0.001739   0.001777   0.000000  \n",
              "7304   0.800623   0.001777   0.001229   0.000000  \n",
              "\n",
              "[7301 rows x 10 columns]"
            ],
            "text/html": [
              "\n",
              "  <div id=\"df-2e0ce49e-4ad7-4ef6-850f-570990861dd8\">\n",
              "    <div class=\"colab-df-container\">\n",
              "      <div>\n",
              "<style scoped>\n",
              "    .dataframe tbody tr th:only-of-type {\n",
              "        vertical-align: middle;\n",
              "    }\n",
              "\n",
              "    .dataframe tbody tr th {\n",
              "        vertical-align: top;\n",
              "    }\n",
              "\n",
              "    .dataframe thead th {\n",
              "        text-align: right;\n",
              "    }\n",
              "</style>\n",
              "<table border=\"1\" class=\"dataframe\">\n",
              "  <thead>\n",
              "    <tr style=\"text-align: right;\">\n",
              "      <th></th>\n",
              "      <th>var(t-4)1</th>\n",
              "      <th>var(t-3)1</th>\n",
              "      <th>var(t-2)1</th>\n",
              "      <th>var(t-1)1</th>\n",
              "      <th>var(t)1</th>\n",
              "      <th>var(t-2)2</th>\n",
              "      <th>var(t-1)2</th>\n",
              "      <th>var(t-2)3</th>\n",
              "      <th>var(t-1)3</th>\n",
              "      <th>var(t-1)4</th>\n",
              "    </tr>\n",
              "  </thead>\n",
              "  <tbody>\n",
              "    <tr>\n",
              "      <th>4</th>\n",
              "      <td>0.006577</td>\n",
              "      <td>0.004115</td>\n",
              "      <td>0.007000</td>\n",
              "      <td>0.002602</td>\n",
              "      <td>0.004196</td>\n",
              "      <td>0.693146</td>\n",
              "      <td>0.693925</td>\n",
              "      <td>0.003876</td>\n",
              "      <td>0.003781</td>\n",
              "      <td>0.000000</td>\n",
              "    </tr>\n",
              "    <tr>\n",
              "      <th>5</th>\n",
              "      <td>0.004115</td>\n",
              "      <td>0.007000</td>\n",
              "      <td>0.002602</td>\n",
              "      <td>0.004196</td>\n",
              "      <td>0.008473</td>\n",
              "      <td>0.693925</td>\n",
              "      <td>0.693146</td>\n",
              "      <td>0.003781</td>\n",
              "      <td>0.002590</td>\n",
              "      <td>0.000000</td>\n",
              "    </tr>\n",
              "    <tr>\n",
              "      <th>6</th>\n",
              "      <td>0.007000</td>\n",
              "      <td>0.002602</td>\n",
              "      <td>0.004196</td>\n",
              "      <td>0.008473</td>\n",
              "      <td>0.007948</td>\n",
              "      <td>0.693146</td>\n",
              "      <td>0.690810</td>\n",
              "      <td>0.002590</td>\n",
              "      <td>0.003933</td>\n",
              "      <td>0.000000</td>\n",
              "    </tr>\n",
              "    <tr>\n",
              "      <th>7</th>\n",
              "      <td>0.002602</td>\n",
              "      <td>0.004196</td>\n",
              "      <td>0.008473</td>\n",
              "      <td>0.007948</td>\n",
              "      <td>0.007807</td>\n",
              "      <td>0.690810</td>\n",
              "      <td>0.688474</td>\n",
              "      <td>0.003933</td>\n",
              "      <td>0.003441</td>\n",
              "      <td>0.000000</td>\n",
              "    </tr>\n",
              "    <tr>\n",
              "      <th>8</th>\n",
              "      <td>0.004196</td>\n",
              "      <td>0.008473</td>\n",
              "      <td>0.007948</td>\n",
              "      <td>0.007807</td>\n",
              "      <td>0.007767</td>\n",
              "      <td>0.688474</td>\n",
              "      <td>0.686137</td>\n",
              "      <td>0.003441</td>\n",
              "      <td>0.003328</td>\n",
              "      <td>0.000000</td>\n",
              "    </tr>\n",
              "    <tr>\n",
              "      <th>...</th>\n",
              "      <td>...</td>\n",
              "      <td>...</td>\n",
              "      <td>...</td>\n",
              "      <td>...</td>\n",
              "      <td>...</td>\n",
              "      <td>...</td>\n",
              "      <td>...</td>\n",
              "      <td>...</td>\n",
              "      <td>...</td>\n",
              "      <td>...</td>\n",
              "    </tr>\n",
              "    <tr>\n",
              "      <th>7300</th>\n",
              "      <td>0.002986</td>\n",
              "      <td>0.002986</td>\n",
              "      <td>0.002986</td>\n",
              "      <td>0.005003</td>\n",
              "      <td>0.005003</td>\n",
              "      <td>0.809190</td>\n",
              "      <td>0.807632</td>\n",
              "      <td>0.000000</td>\n",
              "      <td>0.001777</td>\n",
              "      <td>0.024400</td>\n",
              "    </tr>\n",
              "    <tr>\n",
              "      <th>7301</th>\n",
              "      <td>0.002986</td>\n",
              "      <td>0.002986</td>\n",
              "      <td>0.005003</td>\n",
              "      <td>0.005003</td>\n",
              "      <td>0.004963</td>\n",
              "      <td>0.807632</td>\n",
              "      <td>0.806854</td>\n",
              "      <td>0.001777</td>\n",
              "      <td>0.003233</td>\n",
              "      <td>0.018902</td>\n",
              "    </tr>\n",
              "    <tr>\n",
              "      <th>7302</th>\n",
              "      <td>0.002986</td>\n",
              "      <td>0.005003</td>\n",
              "      <td>0.005003</td>\n",
              "      <td>0.004963</td>\n",
              "      <td>0.005003</td>\n",
              "      <td>0.806854</td>\n",
              "      <td>0.805296</td>\n",
              "      <td>0.003233</td>\n",
              "      <td>0.001739</td>\n",
              "      <td>0.000000</td>\n",
              "    </tr>\n",
              "    <tr>\n",
              "      <th>7303</th>\n",
              "      <td>0.005003</td>\n",
              "      <td>0.005003</td>\n",
              "      <td>0.004963</td>\n",
              "      <td>0.005003</td>\n",
              "      <td>0.007484</td>\n",
              "      <td>0.805296</td>\n",
              "      <td>0.803738</td>\n",
              "      <td>0.001739</td>\n",
              "      <td>0.001777</td>\n",
              "      <td>0.000000</td>\n",
              "    </tr>\n",
              "    <tr>\n",
              "      <th>7304</th>\n",
              "      <td>0.005003</td>\n",
              "      <td>0.004963</td>\n",
              "      <td>0.005003</td>\n",
              "      <td>0.007484</td>\n",
              "      <td>0.007464</td>\n",
              "      <td>0.803738</td>\n",
              "      <td>0.800623</td>\n",
              "      <td>0.001777</td>\n",
              "      <td>0.001229</td>\n",
              "      <td>0.000000</td>\n",
              "    </tr>\n",
              "  </tbody>\n",
              "</table>\n",
              "<p>7301 rows × 10 columns</p>\n",
              "</div>\n",
              "      <button class=\"colab-df-convert\" onclick=\"convertToInteractive('df-2e0ce49e-4ad7-4ef6-850f-570990861dd8')\"\n",
              "              title=\"Convert this dataframe to an interactive table.\"\n",
              "              style=\"display:none;\">\n",
              "        \n",
              "  <svg xmlns=\"http://www.w3.org/2000/svg\" height=\"24px\"viewBox=\"0 0 24 24\"\n",
              "       width=\"24px\">\n",
              "    <path d=\"M0 0h24v24H0V0z\" fill=\"none\"/>\n",
              "    <path d=\"M18.56 5.44l.94 2.06.94-2.06 2.06-.94-2.06-.94-.94-2.06-.94 2.06-2.06.94zm-11 1L8.5 8.5l.94-2.06 2.06-.94-2.06-.94L8.5 2.5l-.94 2.06-2.06.94zm10 10l.94 2.06.94-2.06 2.06-.94-2.06-.94-.94-2.06-.94 2.06-2.06.94z\"/><path d=\"M17.41 7.96l-1.37-1.37c-.4-.4-.92-.59-1.43-.59-.52 0-1.04.2-1.43.59L10.3 9.45l-7.72 7.72c-.78.78-.78 2.05 0 2.83L4 21.41c.39.39.9.59 1.41.59.51 0 1.02-.2 1.41-.59l7.78-7.78 2.81-2.81c.8-.78.8-2.07 0-2.86zM5.41 20L4 18.59l7.72-7.72 1.47 1.35L5.41 20z\"/>\n",
              "  </svg>\n",
              "      </button>\n",
              "      \n",
              "  <style>\n",
              "    .colab-df-container {\n",
              "      display:flex;\n",
              "      flex-wrap:wrap;\n",
              "      gap: 12px;\n",
              "    }\n",
              "\n",
              "    .colab-df-convert {\n",
              "      background-color: #E8F0FE;\n",
              "      border: none;\n",
              "      border-radius: 50%;\n",
              "      cursor: pointer;\n",
              "      display: none;\n",
              "      fill: #1967D2;\n",
              "      height: 32px;\n",
              "      padding: 0 0 0 0;\n",
              "      width: 32px;\n",
              "    }\n",
              "\n",
              "    .colab-df-convert:hover {\n",
              "      background-color: #E2EBFA;\n",
              "      box-shadow: 0px 1px 2px rgba(60, 64, 67, 0.3), 0px 1px 3px 1px rgba(60, 64, 67, 0.15);\n",
              "      fill: #174EA6;\n",
              "    }\n",
              "\n",
              "    [theme=dark] .colab-df-convert {\n",
              "      background-color: #3B4455;\n",
              "      fill: #D2E3FC;\n",
              "    }\n",
              "\n",
              "    [theme=dark] .colab-df-convert:hover {\n",
              "      background-color: #434B5C;\n",
              "      box-shadow: 0px 1px 3px 1px rgba(0, 0, 0, 0.15);\n",
              "      filter: drop-shadow(0px 1px 2px rgba(0, 0, 0, 0.3));\n",
              "      fill: #FFFFFF;\n",
              "    }\n",
              "  </style>\n",
              "\n",
              "      <script>\n",
              "        const buttonEl =\n",
              "          document.querySelector('#df-2e0ce49e-4ad7-4ef6-850f-570990861dd8 button.colab-df-convert');\n",
              "        buttonEl.style.display =\n",
              "          google.colab.kernel.accessAllowed ? 'block' : 'none';\n",
              "\n",
              "        async function convertToInteractive(key) {\n",
              "          const element = document.querySelector('#df-2e0ce49e-4ad7-4ef6-850f-570990861dd8');\n",
              "          const dataTable =\n",
              "            await google.colab.kernel.invokeFunction('convertToInteractive',\n",
              "                                                     [key], {});\n",
              "          if (!dataTable) return;\n",
              "\n",
              "          const docLinkHtml = 'Like what you see? Visit the ' +\n",
              "            '<a target=\"_blank\" href=https://colab.research.google.com/notebooks/data_table.ipynb>data table notebook</a>'\n",
              "            + ' to learn more about interactive tables.';\n",
              "          element.innerHTML = '';\n",
              "          dataTable['output_type'] = 'display_data';\n",
              "          await google.colab.output.renderOutput(dataTable, element);\n",
              "          const docLink = document.createElement('div');\n",
              "          docLink.innerHTML = docLinkHtml;\n",
              "          element.appendChild(docLink);\n",
              "        }\n",
              "      </script>\n",
              "    </div>\n",
              "  </div>\n",
              "  "
            ]
          },
          "metadata": {},
          "execution_count": 21
        }
      ],
      "source": [
        "Input"
      ]
    },
    {
      "cell_type": "code",
      "execution_count": null,
      "metadata": {
        "id": "PKp7TQaw8M2x"
      },
      "outputs": [],
      "source": [
        "y=Input[Input.columns[Input.columns.isin(['var(t)1'])]]"
      ]
    },
    {
      "cell_type": "code",
      "execution_count": null,
      "metadata": {
        "id": "WsLjfsMz8Nbj"
      },
      "outputs": [],
      "source": [
        "X=Input.drop(['var(t)1'],axis=1)"
      ]
    },
    {
      "cell_type": "code",
      "execution_count": null,
      "metadata": {
        "id": "CpHO5AxN8Nmj"
      },
      "outputs": [],
      "source": [
        "x_train=X[:4378]\n",
        "x_val=X[4378:5472]\n",
        "x_test=X[5472:]\n",
        "y_train=y[:4378]\n",
        "y_val=y[4378:5472]\n",
        "y_test=y[5472:]"
      ]
    },
    {
      "cell_type": "code",
      "execution_count": null,
      "metadata": {
        "colab": {
          "base_uri": "https://localhost:8080/",
          "height": 423
        },
        "id": "POroSYmM8Nuw",
        "outputId": "7f29cc39-7f68-43b6-974f-57c0a791994d"
      },
      "outputs": [
        {
          "output_type": "execute_result",
          "data": {
            "text/plain": [
              "      var(t-4)1  var(t-3)1  var(t-2)1  var(t-1)1  var(t-2)2  var(t-1)2  \\\n",
              "4      0.006577   0.004115   0.007000   0.002602   0.693146   0.693925   \n",
              "5      0.004115   0.007000   0.002602   0.004196   0.693925   0.693146   \n",
              "6      0.007000   0.002602   0.004196   0.008473   0.693146   0.690810   \n",
              "7      0.002602   0.004196   0.008473   0.007948   0.690810   0.688474   \n",
              "8      0.004196   0.008473   0.007948   0.007807   0.688474   0.686137   \n",
              "...         ...        ...        ...        ...        ...        ...   \n",
              "4377   0.000767   0.001937   0.001937   0.000000   0.657321   0.657321   \n",
              "4378   0.001937   0.001937   0.000000   0.000000   0.657321   0.658100   \n",
              "4379   0.001937   0.000000   0.000000   0.000000   0.658100   0.658100   \n",
              "4380   0.000000   0.000000   0.000000   0.000000   0.658100   0.658878   \n",
              "4381   0.000000   0.000000   0.000000   0.000000   0.658878   0.658878   \n",
              "\n",
              "      var(t-2)3  var(t-1)3  var(t-1)4  \n",
              "4      0.003876   0.003781        0.0  \n",
              "5      0.003781   0.002590        0.0  \n",
              "6      0.002590   0.003933        0.0  \n",
              "7      0.003933   0.003441        0.0  \n",
              "8      0.003441   0.003328        0.0  \n",
              "...         ...        ...        ...  \n",
              "4377   0.001815   0.000000        0.0  \n",
              "4378   0.000000   0.001286        0.0  \n",
              "4379   0.001286   0.000000        0.0  \n",
              "4380   0.000000   0.001286        0.0  \n",
              "4381   0.001286   0.000000        0.0  \n",
              "\n",
              "[4378 rows x 9 columns]"
            ],
            "text/html": [
              "\n",
              "  <div id=\"df-bd0dd7d2-f07d-4f79-bd25-1c2d67f97440\">\n",
              "    <div class=\"colab-df-container\">\n",
              "      <div>\n",
              "<style scoped>\n",
              "    .dataframe tbody tr th:only-of-type {\n",
              "        vertical-align: middle;\n",
              "    }\n",
              "\n",
              "    .dataframe tbody tr th {\n",
              "        vertical-align: top;\n",
              "    }\n",
              "\n",
              "    .dataframe thead th {\n",
              "        text-align: right;\n",
              "    }\n",
              "</style>\n",
              "<table border=\"1\" class=\"dataframe\">\n",
              "  <thead>\n",
              "    <tr style=\"text-align: right;\">\n",
              "      <th></th>\n",
              "      <th>var(t-4)1</th>\n",
              "      <th>var(t-3)1</th>\n",
              "      <th>var(t-2)1</th>\n",
              "      <th>var(t-1)1</th>\n",
              "      <th>var(t-2)2</th>\n",
              "      <th>var(t-1)2</th>\n",
              "      <th>var(t-2)3</th>\n",
              "      <th>var(t-1)3</th>\n",
              "      <th>var(t-1)4</th>\n",
              "    </tr>\n",
              "  </thead>\n",
              "  <tbody>\n",
              "    <tr>\n",
              "      <th>4</th>\n",
              "      <td>0.006577</td>\n",
              "      <td>0.004115</td>\n",
              "      <td>0.007000</td>\n",
              "      <td>0.002602</td>\n",
              "      <td>0.693146</td>\n",
              "      <td>0.693925</td>\n",
              "      <td>0.003876</td>\n",
              "      <td>0.003781</td>\n",
              "      <td>0.0</td>\n",
              "    </tr>\n",
              "    <tr>\n",
              "      <th>5</th>\n",
              "      <td>0.004115</td>\n",
              "      <td>0.007000</td>\n",
              "      <td>0.002602</td>\n",
              "      <td>0.004196</td>\n",
              "      <td>0.693925</td>\n",
              "      <td>0.693146</td>\n",
              "      <td>0.003781</td>\n",
              "      <td>0.002590</td>\n",
              "      <td>0.0</td>\n",
              "    </tr>\n",
              "    <tr>\n",
              "      <th>6</th>\n",
              "      <td>0.007000</td>\n",
              "      <td>0.002602</td>\n",
              "      <td>0.004196</td>\n",
              "      <td>0.008473</td>\n",
              "      <td>0.693146</td>\n",
              "      <td>0.690810</td>\n",
              "      <td>0.002590</td>\n",
              "      <td>0.003933</td>\n",
              "      <td>0.0</td>\n",
              "    </tr>\n",
              "    <tr>\n",
              "      <th>7</th>\n",
              "      <td>0.002602</td>\n",
              "      <td>0.004196</td>\n",
              "      <td>0.008473</td>\n",
              "      <td>0.007948</td>\n",
              "      <td>0.690810</td>\n",
              "      <td>0.688474</td>\n",
              "      <td>0.003933</td>\n",
              "      <td>0.003441</td>\n",
              "      <td>0.0</td>\n",
              "    </tr>\n",
              "    <tr>\n",
              "      <th>8</th>\n",
              "      <td>0.004196</td>\n",
              "      <td>0.008473</td>\n",
              "      <td>0.007948</td>\n",
              "      <td>0.007807</td>\n",
              "      <td>0.688474</td>\n",
              "      <td>0.686137</td>\n",
              "      <td>0.003441</td>\n",
              "      <td>0.003328</td>\n",
              "      <td>0.0</td>\n",
              "    </tr>\n",
              "    <tr>\n",
              "      <th>...</th>\n",
              "      <td>...</td>\n",
              "      <td>...</td>\n",
              "      <td>...</td>\n",
              "      <td>...</td>\n",
              "      <td>...</td>\n",
              "      <td>...</td>\n",
              "      <td>...</td>\n",
              "      <td>...</td>\n",
              "      <td>...</td>\n",
              "    </tr>\n",
              "    <tr>\n",
              "      <th>4377</th>\n",
              "      <td>0.000767</td>\n",
              "      <td>0.001937</td>\n",
              "      <td>0.001937</td>\n",
              "      <td>0.000000</td>\n",
              "      <td>0.657321</td>\n",
              "      <td>0.657321</td>\n",
              "      <td>0.001815</td>\n",
              "      <td>0.000000</td>\n",
              "      <td>0.0</td>\n",
              "    </tr>\n",
              "    <tr>\n",
              "      <th>4378</th>\n",
              "      <td>0.001937</td>\n",
              "      <td>0.001937</td>\n",
              "      <td>0.000000</td>\n",
              "      <td>0.000000</td>\n",
              "      <td>0.657321</td>\n",
              "      <td>0.658100</td>\n",
              "      <td>0.000000</td>\n",
              "      <td>0.001286</td>\n",
              "      <td>0.0</td>\n",
              "    </tr>\n",
              "    <tr>\n",
              "      <th>4379</th>\n",
              "      <td>0.001937</td>\n",
              "      <td>0.000000</td>\n",
              "      <td>0.000000</td>\n",
              "      <td>0.000000</td>\n",
              "      <td>0.658100</td>\n",
              "      <td>0.658100</td>\n",
              "      <td>0.001286</td>\n",
              "      <td>0.000000</td>\n",
              "      <td>0.0</td>\n",
              "    </tr>\n",
              "    <tr>\n",
              "      <th>4380</th>\n",
              "      <td>0.000000</td>\n",
              "      <td>0.000000</td>\n",
              "      <td>0.000000</td>\n",
              "      <td>0.000000</td>\n",
              "      <td>0.658100</td>\n",
              "      <td>0.658878</td>\n",
              "      <td>0.000000</td>\n",
              "      <td>0.001286</td>\n",
              "      <td>0.0</td>\n",
              "    </tr>\n",
              "    <tr>\n",
              "      <th>4381</th>\n",
              "      <td>0.000000</td>\n",
              "      <td>0.000000</td>\n",
              "      <td>0.000000</td>\n",
              "      <td>0.000000</td>\n",
              "      <td>0.658878</td>\n",
              "      <td>0.658878</td>\n",
              "      <td>0.001286</td>\n",
              "      <td>0.000000</td>\n",
              "      <td>0.0</td>\n",
              "    </tr>\n",
              "  </tbody>\n",
              "</table>\n",
              "<p>4378 rows × 9 columns</p>\n",
              "</div>\n",
              "      <button class=\"colab-df-convert\" onclick=\"convertToInteractive('df-bd0dd7d2-f07d-4f79-bd25-1c2d67f97440')\"\n",
              "              title=\"Convert this dataframe to an interactive table.\"\n",
              "              style=\"display:none;\">\n",
              "        \n",
              "  <svg xmlns=\"http://www.w3.org/2000/svg\" height=\"24px\"viewBox=\"0 0 24 24\"\n",
              "       width=\"24px\">\n",
              "    <path d=\"M0 0h24v24H0V0z\" fill=\"none\"/>\n",
              "    <path d=\"M18.56 5.44l.94 2.06.94-2.06 2.06-.94-2.06-.94-.94-2.06-.94 2.06-2.06.94zm-11 1L8.5 8.5l.94-2.06 2.06-.94-2.06-.94L8.5 2.5l-.94 2.06-2.06.94zm10 10l.94 2.06.94-2.06 2.06-.94-2.06-.94-.94-2.06-.94 2.06-2.06.94z\"/><path d=\"M17.41 7.96l-1.37-1.37c-.4-.4-.92-.59-1.43-.59-.52 0-1.04.2-1.43.59L10.3 9.45l-7.72 7.72c-.78.78-.78 2.05 0 2.83L4 21.41c.39.39.9.59 1.41.59.51 0 1.02-.2 1.41-.59l7.78-7.78 2.81-2.81c.8-.78.8-2.07 0-2.86zM5.41 20L4 18.59l7.72-7.72 1.47 1.35L5.41 20z\"/>\n",
              "  </svg>\n",
              "      </button>\n",
              "      \n",
              "  <style>\n",
              "    .colab-df-container {\n",
              "      display:flex;\n",
              "      flex-wrap:wrap;\n",
              "      gap: 12px;\n",
              "    }\n",
              "\n",
              "    .colab-df-convert {\n",
              "      background-color: #E8F0FE;\n",
              "      border: none;\n",
              "      border-radius: 50%;\n",
              "      cursor: pointer;\n",
              "      display: none;\n",
              "      fill: #1967D2;\n",
              "      height: 32px;\n",
              "      padding: 0 0 0 0;\n",
              "      width: 32px;\n",
              "    }\n",
              "\n",
              "    .colab-df-convert:hover {\n",
              "      background-color: #E2EBFA;\n",
              "      box-shadow: 0px 1px 2px rgba(60, 64, 67, 0.3), 0px 1px 3px 1px rgba(60, 64, 67, 0.15);\n",
              "      fill: #174EA6;\n",
              "    }\n",
              "\n",
              "    [theme=dark] .colab-df-convert {\n",
              "      background-color: #3B4455;\n",
              "      fill: #D2E3FC;\n",
              "    }\n",
              "\n",
              "    [theme=dark] .colab-df-convert:hover {\n",
              "      background-color: #434B5C;\n",
              "      box-shadow: 0px 1px 3px 1px rgba(0, 0, 0, 0.15);\n",
              "      filter: drop-shadow(0px 1px 2px rgba(0, 0, 0, 0.3));\n",
              "      fill: #FFFFFF;\n",
              "    }\n",
              "  </style>\n",
              "\n",
              "      <script>\n",
              "        const buttonEl =\n",
              "          document.querySelector('#df-bd0dd7d2-f07d-4f79-bd25-1c2d67f97440 button.colab-df-convert');\n",
              "        buttonEl.style.display =\n",
              "          google.colab.kernel.accessAllowed ? 'block' : 'none';\n",
              "\n",
              "        async function convertToInteractive(key) {\n",
              "          const element = document.querySelector('#df-bd0dd7d2-f07d-4f79-bd25-1c2d67f97440');\n",
              "          const dataTable =\n",
              "            await google.colab.kernel.invokeFunction('convertToInteractive',\n",
              "                                                     [key], {});\n",
              "          if (!dataTable) return;\n",
              "\n",
              "          const docLinkHtml = 'Like what you see? Visit the ' +\n",
              "            '<a target=\"_blank\" href=https://colab.research.google.com/notebooks/data_table.ipynb>data table notebook</a>'\n",
              "            + ' to learn more about interactive tables.';\n",
              "          element.innerHTML = '';\n",
              "          dataTable['output_type'] = 'display_data';\n",
              "          await google.colab.output.renderOutput(dataTable, element);\n",
              "          const docLink = document.createElement('div');\n",
              "          docLink.innerHTML = docLinkHtml;\n",
              "          element.appendChild(docLink);\n",
              "        }\n",
              "      </script>\n",
              "    </div>\n",
              "  </div>\n",
              "  "
            ]
          },
          "metadata": {},
          "execution_count": 25
        }
      ],
      "source": [
        "x_train"
      ]
    },
    {
      "cell_type": "code",
      "execution_count": null,
      "metadata": {
        "colab": {
          "base_uri": "https://localhost:8080/",
          "height": 423
        },
        "id": "34pcRafc8N2w",
        "outputId": "c8bf0518-dfe5-4a8e-f611-093255d836a6"
      },
      "outputs": [
        {
          "output_type": "execute_result",
          "data": {
            "text/plain": [
              "       var(t)1\n",
              "4     0.004196\n",
              "5     0.008473\n",
              "6     0.007948\n",
              "7     0.007807\n",
              "8     0.007767\n",
              "...        ...\n",
              "4377  0.000000\n",
              "4378  0.000000\n",
              "4379  0.000000\n",
              "4380  0.000000\n",
              "4381  0.000000\n",
              "\n",
              "[4378 rows x 1 columns]"
            ],
            "text/html": [
              "\n",
              "  <div id=\"df-17624a76-ccf6-4d1b-85b4-a433eaa91796\">\n",
              "    <div class=\"colab-df-container\">\n",
              "      <div>\n",
              "<style scoped>\n",
              "    .dataframe tbody tr th:only-of-type {\n",
              "        vertical-align: middle;\n",
              "    }\n",
              "\n",
              "    .dataframe tbody tr th {\n",
              "        vertical-align: top;\n",
              "    }\n",
              "\n",
              "    .dataframe thead th {\n",
              "        text-align: right;\n",
              "    }\n",
              "</style>\n",
              "<table border=\"1\" class=\"dataframe\">\n",
              "  <thead>\n",
              "    <tr style=\"text-align: right;\">\n",
              "      <th></th>\n",
              "      <th>var(t)1</th>\n",
              "    </tr>\n",
              "  </thead>\n",
              "  <tbody>\n",
              "    <tr>\n",
              "      <th>4</th>\n",
              "      <td>0.004196</td>\n",
              "    </tr>\n",
              "    <tr>\n",
              "      <th>5</th>\n",
              "      <td>0.008473</td>\n",
              "    </tr>\n",
              "    <tr>\n",
              "      <th>6</th>\n",
              "      <td>0.007948</td>\n",
              "    </tr>\n",
              "    <tr>\n",
              "      <th>7</th>\n",
              "      <td>0.007807</td>\n",
              "    </tr>\n",
              "    <tr>\n",
              "      <th>8</th>\n",
              "      <td>0.007767</td>\n",
              "    </tr>\n",
              "    <tr>\n",
              "      <th>...</th>\n",
              "      <td>...</td>\n",
              "    </tr>\n",
              "    <tr>\n",
              "      <th>4377</th>\n",
              "      <td>0.000000</td>\n",
              "    </tr>\n",
              "    <tr>\n",
              "      <th>4378</th>\n",
              "      <td>0.000000</td>\n",
              "    </tr>\n",
              "    <tr>\n",
              "      <th>4379</th>\n",
              "      <td>0.000000</td>\n",
              "    </tr>\n",
              "    <tr>\n",
              "      <th>4380</th>\n",
              "      <td>0.000000</td>\n",
              "    </tr>\n",
              "    <tr>\n",
              "      <th>4381</th>\n",
              "      <td>0.000000</td>\n",
              "    </tr>\n",
              "  </tbody>\n",
              "</table>\n",
              "<p>4378 rows × 1 columns</p>\n",
              "</div>\n",
              "      <button class=\"colab-df-convert\" onclick=\"convertToInteractive('df-17624a76-ccf6-4d1b-85b4-a433eaa91796')\"\n",
              "              title=\"Convert this dataframe to an interactive table.\"\n",
              "              style=\"display:none;\">\n",
              "        \n",
              "  <svg xmlns=\"http://www.w3.org/2000/svg\" height=\"24px\"viewBox=\"0 0 24 24\"\n",
              "       width=\"24px\">\n",
              "    <path d=\"M0 0h24v24H0V0z\" fill=\"none\"/>\n",
              "    <path d=\"M18.56 5.44l.94 2.06.94-2.06 2.06-.94-2.06-.94-.94-2.06-.94 2.06-2.06.94zm-11 1L8.5 8.5l.94-2.06 2.06-.94-2.06-.94L8.5 2.5l-.94 2.06-2.06.94zm10 10l.94 2.06.94-2.06 2.06-.94-2.06-.94-.94-2.06-.94 2.06-2.06.94z\"/><path d=\"M17.41 7.96l-1.37-1.37c-.4-.4-.92-.59-1.43-.59-.52 0-1.04.2-1.43.59L10.3 9.45l-7.72 7.72c-.78.78-.78 2.05 0 2.83L4 21.41c.39.39.9.59 1.41.59.51 0 1.02-.2 1.41-.59l7.78-7.78 2.81-2.81c.8-.78.8-2.07 0-2.86zM5.41 20L4 18.59l7.72-7.72 1.47 1.35L5.41 20z\"/>\n",
              "  </svg>\n",
              "      </button>\n",
              "      \n",
              "  <style>\n",
              "    .colab-df-container {\n",
              "      display:flex;\n",
              "      flex-wrap:wrap;\n",
              "      gap: 12px;\n",
              "    }\n",
              "\n",
              "    .colab-df-convert {\n",
              "      background-color: #E8F0FE;\n",
              "      border: none;\n",
              "      border-radius: 50%;\n",
              "      cursor: pointer;\n",
              "      display: none;\n",
              "      fill: #1967D2;\n",
              "      height: 32px;\n",
              "      padding: 0 0 0 0;\n",
              "      width: 32px;\n",
              "    }\n",
              "\n",
              "    .colab-df-convert:hover {\n",
              "      background-color: #E2EBFA;\n",
              "      box-shadow: 0px 1px 2px rgba(60, 64, 67, 0.3), 0px 1px 3px 1px rgba(60, 64, 67, 0.15);\n",
              "      fill: #174EA6;\n",
              "    }\n",
              "\n",
              "    [theme=dark] .colab-df-convert {\n",
              "      background-color: #3B4455;\n",
              "      fill: #D2E3FC;\n",
              "    }\n",
              "\n",
              "    [theme=dark] .colab-df-convert:hover {\n",
              "      background-color: #434B5C;\n",
              "      box-shadow: 0px 1px 3px 1px rgba(0, 0, 0, 0.15);\n",
              "      filter: drop-shadow(0px 1px 2px rgba(0, 0, 0, 0.3));\n",
              "      fill: #FFFFFF;\n",
              "    }\n",
              "  </style>\n",
              "\n",
              "      <script>\n",
              "        const buttonEl =\n",
              "          document.querySelector('#df-17624a76-ccf6-4d1b-85b4-a433eaa91796 button.colab-df-convert');\n",
              "        buttonEl.style.display =\n",
              "          google.colab.kernel.accessAllowed ? 'block' : 'none';\n",
              "\n",
              "        async function convertToInteractive(key) {\n",
              "          const element = document.querySelector('#df-17624a76-ccf6-4d1b-85b4-a433eaa91796');\n",
              "          const dataTable =\n",
              "            await google.colab.kernel.invokeFunction('convertToInteractive',\n",
              "                                                     [key], {});\n",
              "          if (!dataTable) return;\n",
              "\n",
              "          const docLinkHtml = 'Like what you see? Visit the ' +\n",
              "            '<a target=\"_blank\" href=https://colab.research.google.com/notebooks/data_table.ipynb>data table notebook</a>'\n",
              "            + ' to learn more about interactive tables.';\n",
              "          element.innerHTML = '';\n",
              "          dataTable['output_type'] = 'display_data';\n",
              "          await google.colab.output.renderOutput(dataTable, element);\n",
              "          const docLink = document.createElement('div');\n",
              "          docLink.innerHTML = docLinkHtml;\n",
              "          element.appendChild(docLink);\n",
              "        }\n",
              "      </script>\n",
              "    </div>\n",
              "  </div>\n",
              "  "
            ]
          },
          "metadata": {},
          "execution_count": 26
        }
      ],
      "source": [
        "y_train"
      ]
    },
    {
      "cell_type": "code",
      "execution_count": null,
      "metadata": {
        "colab": {
          "base_uri": "https://localhost:8080/"
        },
        "id": "A6iD3iF19I1c",
        "outputId": "070418eb-664e-4a85-e629-558138f8c7ce"
      },
      "outputs": [
        {
          "output_type": "execute_result",
          "data": {
            "text/plain": [
              "((4378, 9), (1829, 9), (4378, 1), (1829, 1))"
            ]
          },
          "metadata": {},
          "execution_count": 27
        }
      ],
      "source": [
        "x_train.shape, x_test.shape, y_train.shape, y_test.shape"
      ]
    },
    {
      "cell_type": "code",
      "execution_count": null,
      "metadata": {
        "id": "-O9_LBqOx81i"
      },
      "outputs": [],
      "source": []
    },
    {
      "cell_type": "code",
      "execution_count": null,
      "metadata": {
        "id": "QkkqsAepx81i"
      },
      "outputs": [],
      "source": [
        "# {'C': 10, 'degree': 3, 'gamma': 'auto', 'kernel': 'rbf'}"
      ]
    },
    {
      "cell_type": "code",
      "execution_count": null,
      "metadata": {
        "colab": {
          "base_uri": "https://localhost:8080/",
          "height": 131
        },
        "id": "xT2ZmGJSVkxQ",
        "outputId": "a1889154-f4d4-4c27-b0b5-c46dd2cede84"
      },
      "outputs": [
        {
          "output_type": "stream",
          "name": "stderr",
          "text": [
            "/usr/local/lib/python3.9/dist-packages/sklearn/utils/validation.py:1143: DataConversionWarning: A column-vector y was passed when a 1d array was expected. Please change the shape of y to (n_samples, ), for example using ravel().\n",
            "  y = column_or_1d(y, warn=True)\n"
          ]
        },
        {
          "output_type": "execute_result",
          "data": {
            "text/plain": [
              "SVR(C=10, epsilon=0.001, gamma='auto')"
            ],
            "text/html": [
              "<style>#sk-container-id-1 {color: black;background-color: white;}#sk-container-id-1 pre{padding: 0;}#sk-container-id-1 div.sk-toggleable {background-color: white;}#sk-container-id-1 label.sk-toggleable__label {cursor: pointer;display: block;width: 100%;margin-bottom: 0;padding: 0.3em;box-sizing: border-box;text-align: center;}#sk-container-id-1 label.sk-toggleable__label-arrow:before {content: \"▸\";float: left;margin-right: 0.25em;color: #696969;}#sk-container-id-1 label.sk-toggleable__label-arrow:hover:before {color: black;}#sk-container-id-1 div.sk-estimator:hover label.sk-toggleable__label-arrow:before {color: black;}#sk-container-id-1 div.sk-toggleable__content {max-height: 0;max-width: 0;overflow: hidden;text-align: left;background-color: #f0f8ff;}#sk-container-id-1 div.sk-toggleable__content pre {margin: 0.2em;color: black;border-radius: 0.25em;background-color: #f0f8ff;}#sk-container-id-1 input.sk-toggleable__control:checked~div.sk-toggleable__content {max-height: 200px;max-width: 100%;overflow: auto;}#sk-container-id-1 input.sk-toggleable__control:checked~label.sk-toggleable__label-arrow:before {content: \"▾\";}#sk-container-id-1 div.sk-estimator input.sk-toggleable__control:checked~label.sk-toggleable__label {background-color: #d4ebff;}#sk-container-id-1 div.sk-label input.sk-toggleable__control:checked~label.sk-toggleable__label {background-color: #d4ebff;}#sk-container-id-1 input.sk-hidden--visually {border: 0;clip: rect(1px 1px 1px 1px);clip: rect(1px, 1px, 1px, 1px);height: 1px;margin: -1px;overflow: hidden;padding: 0;position: absolute;width: 1px;}#sk-container-id-1 div.sk-estimator {font-family: monospace;background-color: #f0f8ff;border: 1px dotted black;border-radius: 0.25em;box-sizing: border-box;margin-bottom: 0.5em;}#sk-container-id-1 div.sk-estimator:hover {background-color: #d4ebff;}#sk-container-id-1 div.sk-parallel-item::after {content: \"\";width: 100%;border-bottom: 1px solid gray;flex-grow: 1;}#sk-container-id-1 div.sk-label:hover label.sk-toggleable__label {background-color: #d4ebff;}#sk-container-id-1 div.sk-serial::before {content: \"\";position: absolute;border-left: 1px solid gray;box-sizing: border-box;top: 0;bottom: 0;left: 50%;z-index: 0;}#sk-container-id-1 div.sk-serial {display: flex;flex-direction: column;align-items: center;background-color: white;padding-right: 0.2em;padding-left: 0.2em;position: relative;}#sk-container-id-1 div.sk-item {position: relative;z-index: 1;}#sk-container-id-1 div.sk-parallel {display: flex;align-items: stretch;justify-content: center;background-color: white;position: relative;}#sk-container-id-1 div.sk-item::before, #sk-container-id-1 div.sk-parallel-item::before {content: \"\";position: absolute;border-left: 1px solid gray;box-sizing: border-box;top: 0;bottom: 0;left: 50%;z-index: -1;}#sk-container-id-1 div.sk-parallel-item {display: flex;flex-direction: column;z-index: 1;position: relative;background-color: white;}#sk-container-id-1 div.sk-parallel-item:first-child::after {align-self: flex-end;width: 50%;}#sk-container-id-1 div.sk-parallel-item:last-child::after {align-self: flex-start;width: 50%;}#sk-container-id-1 div.sk-parallel-item:only-child::after {width: 0;}#sk-container-id-1 div.sk-dashed-wrapped {border: 1px dashed gray;margin: 0 0.4em 0.5em 0.4em;box-sizing: border-box;padding-bottom: 0.4em;background-color: white;}#sk-container-id-1 div.sk-label label {font-family: monospace;font-weight: bold;display: inline-block;line-height: 1.2em;}#sk-container-id-1 div.sk-label-container {text-align: center;}#sk-container-id-1 div.sk-container {/* jupyter's `normalize.less` sets `[hidden] { display: none; }` but bootstrap.min.css set `[hidden] { display: none !important; }` so we also need the `!important` here to be able to override the default hidden behavior on the sphinx rendered scikit-learn.org. See: https://github.com/scikit-learn/scikit-learn/issues/21755 */display: inline-block !important;position: relative;}#sk-container-id-1 div.sk-text-repr-fallback {display: none;}</style><div id=\"sk-container-id-1\" class=\"sk-top-container\"><div class=\"sk-text-repr-fallback\"><pre>SVR(C=10, epsilon=0.001, gamma=&#x27;auto&#x27;)</pre><b>In a Jupyter environment, please rerun this cell to show the HTML representation or trust the notebook. <br />On GitHub, the HTML representation is unable to render, please try loading this page with nbviewer.org.</b></div><div class=\"sk-container\" hidden><div class=\"sk-item\"><div class=\"sk-estimator sk-toggleable\"><input class=\"sk-toggleable__control sk-hidden--visually\" id=\"sk-estimator-id-1\" type=\"checkbox\" checked><label for=\"sk-estimator-id-1\" class=\"sk-toggleable__label sk-toggleable__label-arrow\">SVR</label><div class=\"sk-toggleable__content\"><pre>SVR(C=10, epsilon=0.001, gamma=&#x27;auto&#x27;)</pre></div></div></div></div></div>"
            ]
          },
          "metadata": {},
          "execution_count": 29
        }
      ],
      "source": [
        "#model architexture\n",
        "regressor = SVR(kernel= 'rbf', degree=3, gamma='auto', C=10, epsilon=0.001, shrinking=True, cache_size=200, verbose=False, max_iter=-1)\n",
        "regressor.fit(x_train, y_train)"
      ]
    },
    {
      "cell_type": "code",
      "execution_count": null,
      "metadata": {
        "id": "BLOxIGnR9jwg"
      },
      "outputs": [],
      "source": [
        "te_yp = regressor.predict(x_test)\n",
        "val_yp = regressor.predict(x_val)\n",
        "tr_yp = regressor.predict(x_train)"
      ]
    },
    {
      "cell_type": "code",
      "execution_count": null,
      "metadata": {
        "id": "WR-R4A2J9j-l"
      },
      "outputs": [],
      "source": [
        "tr_yp = tr_yp.reshape(-1, 1)\n",
        "val_yp = val_yp.reshape(-1, 1)\n",
        "te_yp = te_yp.reshape(-1, 1)"
      ]
    },
    {
      "cell_type": "code",
      "execution_count": null,
      "metadata": {
        "colab": {
          "base_uri": "https://localhost:8080/"
        },
        "id": "ThFJ2V759kKl",
        "outputId": "c068580d-86a6-4360-86df-11ced89a0fe2"
      },
      "outputs": [
        {
          "output_type": "execute_result",
          "data": {
            "text/plain": [
              "(1829, 1)"
            ]
          },
          "metadata": {},
          "execution_count": 32
        }
      ],
      "source": [
        "te_yp.shape\n",
        "# x_train[:,:4].shape, tr_yp.shape, x_train.shape"
      ]
    },
    {
      "cell_type": "code",
      "execution_count": null,
      "metadata": {
        "id": "oU_Ax-j09wVu"
      },
      "outputs": [],
      "source": [
        "#converting dataframe to array to reshape in next step\n",
        "x_train=x_train.values\n",
        "y_train=y_train.values\n",
        "x_val=x_val.values\n",
        "y_val=y_val.values\n",
        "x_test=x_test.values\n",
        "y_test=y_test.values"
      ]
    },
    {
      "cell_type": "code",
      "execution_count": null,
      "metadata": {
        "id": "ZFbBXplz9wdW"
      },
      "outputs": [],
      "source": [
        "#inverse_transform\n",
        "# invert scaling for forecast\n",
        "inv_tr_yp = concatenate((tr_yp, x_train[:,:3]), axis=1)\n",
        "inv_tr_yp = scaler.inverse_transform(inv_tr_yp)\n",
        "inv_tr_yp = inv_tr_yp[:,0]\n",
        "\n",
        "inv_val_yp = concatenate((val_yp, x_val[:,:3]), axis=1)\n",
        "inv_val_yp = scaler.inverse_transform(inv_val_yp)\n",
        "inv_val_yp = inv_val_yp[:,0]\n",
        "\n",
        "inv_te_yp = concatenate((te_yp, x_test[:,:3]), axis=1)\n",
        "inv_te_yp = scaler.inverse_transform(inv_te_yp)\n",
        "inv_te_yp = inv_te_yp[:,0]\n",
        "\n",
        "# invert scaling for actual\n",
        "train_y = y_train.reshape((len(y_train), 1))\n",
        "inv_tr_y = concatenate((train_y, x_train[:, :3]), axis=1)\n",
        "inv_tr_y= scaler.inverse_transform(inv_tr_y)\n",
        "inv_tr_y = inv_tr_y[:,0]\n",
        "\n",
        "val_y = y_val.reshape((len(y_val), 1))\n",
        "inv_val_y = concatenate((val_y, x_val[:, :3]), axis=1)\n",
        "inv_val_y= scaler.inverse_transform(inv_val_y)\n",
        "inv_val_y = inv_val_y[:,0]\n",
        "\n",
        "test_y = y_test.reshape((len(y_test), 1))\n",
        "inv_te_y = concatenate((test_y, x_test[:,:3]), axis=1)\n",
        "inv_te_y = scaler.inverse_transform(inv_te_y)\n",
        "inv_te_y = inv_te_y[:,0]"
      ]
    },
    {
      "cell_type": "code",
      "execution_count": null,
      "metadata": {
        "colab": {
          "base_uri": "https://localhost:8080/"
        },
        "id": "WfsFL72P9whE",
        "outputId": "27e8c450-05c5-4a5e-e373-d575c8acd39b"
      },
      "outputs": [
        {
          "output_type": "execute_result",
          "data": {
            "text/plain": [
              "(array([16.89814418, 24.85825561, 47.41709135, ...,  1.34938139,\n",
              "         3.56163607,  1.15300731]),\n",
              " array([24.074076, 48.61111 , 45.601852, ...,  0.      ,  0.      ,\n",
              "         0.      ], dtype=float32))"
            ]
          },
          "metadata": {},
          "execution_count": 35
        }
      ],
      "source": [
        "inv_tr_yp,inv_tr_y"
      ]
    },
    {
      "cell_type": "code",
      "execution_count": null,
      "metadata": {
        "colab": {
          "base_uri": "https://localhost:8080/",
          "height": 449
        },
        "id": "aC-G1OxN95XS",
        "outputId": "3837daac-178d-42e8-8412-42b2a284cace"
      },
      "outputs": [
        {
          "output_type": "display_data",
          "data": {
            "text/plain": [
              "<Figure size 640x480 with 1 Axes>"
            ],
            "image/png": "[encoded data removed]"
          },
          "metadata": {}
        }
      ],
      "source": [
        "# pyplot.figure(figsize=(9,4), dpi=400)\n",
        "pyplot.plot(inv_tr_y, label=\"Observed\")\n",
        "pyplot.plot(inv_tr_yp, label=\"Predicted\")\n",
        "pyplot.xlabel(\"Time (days)\")\n",
        "pyplot.ylabel(\"Reservoir inflow (m^3/s)\")\n",
        "pyplot.legend()\n",
        "pyplot.show()"
      ]
    },
    {
      "cell_type": "code",
      "source": [
        "pyplot.plot(inv_val_y, label=\"Observed\")\n",
        "pyplot.plot(inv_val_yp, label=\"Predicted\")\n",
        "pyplot.xlabel(\"Time (days)\")\n",
        "pyplot.ylabel(\"Reservoir inflow (m^3/s)\")\n",
        "pyplot.legend()\n",
        "pyplot.show()"
      ],
      "metadata": {
        "id": "ZYaUP_gYXUAE",
        "outputId": "25ee7ea6-3c74-4fa1-f99f-0df0bb5c9db8",
        "colab": {
          "base_uri": "https://localhost:8080/",
          "height": 451
        }
      },
      "execution_count": null,
      "outputs": [
        {
          "output_type": "display_data",
          "data": {
            "text/plain": [
              "<Figure size 640x480 with 1 Axes>"
            ],
            "image/png": "[encoded data removed]"
          },
          "metadata": {}
        }
      ]
    },
    {
      "cell_type": "code",
      "execution_count": null,
      "metadata": {
        "colab": {
          "base_uri": "https://localhost:8080/",
          "height": 550
        },
        "id": "ils-A0m4x81l",
        "outputId": "ac878c01-8308-46ea-d4fd-c84c80b4606b"
      },
      "outputs": [
        {
          "output_type": "execute_result",
          "data": {
            "text/plain": [
              "[<matplotlib.lines.Line2D at 0x7f95b2b77550>]"
            ]
          },
          "metadata": {},
          "execution_count": 38
        },
        {
          "output_type": "display_data",
          "data": {
            "text/plain": [
              "<Figure size 360x600 with 1 Axes>"
            ],
            "image/png": "[encoded data removed]"
          },
          "metadata": {}
        }
      ],
      "source": [
        "pyplot.figure(figsize=(3,5), dpi=120)\n",
        "pyplot.plot(y_train[3530:3550],'darkorange', label=\"Actual\", lw=1)\n",
        "pyplot.plot(tr_yp[3530:3550], 'b', label=\"Predicted\", lw=1)"
      ]
    },
    {
      "cell_type": "code",
      "source": [
        "# pyplot.figure(figsize=(9,4), dpi=400)\n",
        "pyplot.plot(inv_val_y, label=\"Observed\")\n",
        "pyplot.plot(inv_val_yp, label=\"Predicted\")\n",
        "pyplot.xlabel(\"Time (days)\")\n",
        "pyplot.ylabel(\"Reservoir inflow (m^3/s)\")\n",
        "pyplot.legend()\n",
        "pyplot.show()"
      ],
      "metadata": {
        "colab": {
          "base_uri": "https://localhost:8080/",
          "height": 451
        },
        "id": "HEmz5V0q0XVX",
        "outputId": "69635cce-67fd-4fd8-de13-9db1c12364aa"
      },
      "execution_count": null,
      "outputs": [
        {
          "output_type": "display_data",
          "data": {
            "text/plain": [
              "<Figure size 640x480 with 1 Axes>"
            ],
            "image/png": "[encoded data removed]"
          },
          "metadata": {}
        }
      ]
    },
    {
      "cell_type": "code",
      "execution_count": null,
      "metadata": {
        "colab": {
          "base_uri": "https://localhost:8080/",
          "height": 453
        },
        "id": "GTk_21yb95eL",
        "outputId": "2e46781f-a0da-43d7-fa1d-1d2a1eee4f66"
      },
      "outputs": [
        {
          "output_type": "display_data",
          "data": {
            "text/plain": [
              "<Figure size 640x480 with 1 Axes>"
            ],
            "image/png": "[encoded data removed]"
          },
          "metadata": {}
        }
      ],
      "source": [
        "# pyplot.figure(figsize=(9,4), dpi=200)\n",
        "pyplot.plot(inv_te_y, label=\"Observed\")\n",
        "pyplot.plot(inv_te_yp,  label=\"Predicted\")\n",
        "pyplot.xlabel(\"Time (days)\")\n",
        "pyplot.ylabel(\"Reservoir inflow (m^3/s)\")\n",
        "pyplot.legend()\n",
        "pyplot.show()\n"
      ]
    },
    {
      "cell_type": "code",
      "execution_count": null,
      "metadata": {
        "colab": {
          "base_uri": "https://localhost:8080/",
          "height": 550
        },
        "id": "Y9aXd1K8x81l",
        "outputId": "5caaf40c-4790-4caf-fbd9-7ab6dce10095"
      },
      "outputs": [
        {
          "output_type": "execute_result",
          "data": {
            "text/plain": [
              "[<matplotlib.lines.Line2D at 0x7f95b2c28970>]"
            ]
          },
          "metadata": {},
          "execution_count": 41
        },
        {
          "output_type": "display_data",
          "data": {
            "text/plain": [
              "<Figure size 360x600 with 1 Axes>"
            ],
            "image/png": "[encoded data removed]"
          },
          "metadata": {}
        }
      ],
      "source": [
        "pyplot.figure(figsize=(3,5), dpi=120)\n",
        "pyplot.plot(y_test[935:947],'darkorange', label=\"Actual\", lw=1)\n",
        "pyplot.plot(te_yp[935:947], 'b', label=\"Predicted\", lw=1)"
      ]
    },
    {
      "cell_type": "code",
      "execution_count": null,
      "metadata": {
        "colab": {
          "base_uri": "https://localhost:8080/",
          "height": 468
        },
        "id": "0EGHjcJ195o8",
        "outputId": "749588a1-14cb-40ce-ed6f-f6ae3792adda"
      },
      "outputs": [
        {
          "output_type": "stream",
          "name": "stderr",
          "text": [
            "<ipython-input-42-fb7749c5a125>:6: UserWarning: color is redundantly defined by the 'color' keyword argument and the fmt string \"k-\" (-> color='k'). The keyword argument will take precedence.\n",
            "  plt.plot(x_lim, y_lim, 'k-', color = 'black', label = '1:1 line')\n"
          ]
        },
        {
          "output_type": "execute_result",
          "data": {
            "text/plain": [
              "<matplotlib.legend.Legend at 0x7f95eaf50af0>"
            ]
          },
          "metadata": {},
          "execution_count": 42
        },
        {
          "output_type": "display_data",
          "data": {
            "text/plain": [
              "<Figure size 400x400 with 1 Axes>"
            ],
            "image/png": "[encoded data removed]"
          },
          "metadata": {}
        }
      ],
      "source": [
        "import matplotlib.pyplot as plt\n",
        "pyplot.figure(figsize=(4,4), dpi=100)\n",
        "plt.scatter(inv_tr_y, inv_tr_yp)\n",
        "y_lim = plt.ylim([0, 6000])\n",
        "x_lim = plt.ylim([0, 6000])\n",
        "plt.plot(x_lim, y_lim, 'k-', color = 'black', label = '1:1 line')\n",
        "plt.ylim(y_lim)\n",
        "plt.xlim(x_lim)\n",
        "#plt.title('Training')\n",
        "plt.xlabel(\"Observed (m^3/s)\")\n",
        "plt.ylabel(\"Simulated (m^3/s)\")\n",
        "plt.legend()"
      ]
    },
    {
      "cell_type": "code",
      "source": [
        "import matplotlib.pyplot as plt\n",
        "pyplot.figure(figsize=(4,4), dpi=100)\n",
        "plt.scatter(inv_val_y, inv_val_yp)\n",
        "y_lim = plt.ylim([0, 6000])\n",
        "x_lim = plt.ylim([0, 6000])\n",
        "plt.plot(x_lim, y_lim, 'k-', color = 'black', label = '1:1 line')\n",
        "plt.ylim(y_lim)\n",
        "plt.xlim(x_lim)\n",
        "#plt.title('Training')\n",
        "plt.xlabel(\"Observed (m^3/s)\")\n",
        "plt.ylabel(\"Simulated (m^3/s)\")\n",
        "plt.legend()"
      ],
      "metadata": {
        "id": "JSxQAh5MXa6j",
        "outputId": "dea88729-f3a6-452b-b86c-c8f6f1d53348",
        "colab": {
          "base_uri": "https://localhost:8080/",
          "height": 468
        }
      },
      "execution_count": null,
      "outputs": [
        {
          "output_type": "stream",
          "name": "stderr",
          "text": [
            "<ipython-input-43-192dc4b19c17>:6: UserWarning: color is redundantly defined by the 'color' keyword argument and the fmt string \"k-\" (-> color='k'). The keyword argument will take precedence.\n",
            "  plt.plot(x_lim, y_lim, 'k-', color = 'black', label = '1:1 line')\n"
          ]
        },
        {
          "output_type": "execute_result",
          "data": {
            "text/plain": [
              "<matplotlib.legend.Legend at 0x7f95eaedba60>"
            ]
          },
          "metadata": {},
          "execution_count": 43
        },
        {
          "output_type": "display_data",
          "data": {
            "text/plain": [
              "<Figure size 400x400 with 1 Axes>"
            ],
            "image/png": "[encoded data removed]"
          },
          "metadata": {}
        }
      ]
    },
    {
      "cell_type": "code",
      "execution_count": null,
      "metadata": {
        "colab": {
          "base_uri": "https://localhost:8080/",
          "height": 468
        },
        "id": "6slueH5__JsZ",
        "outputId": "34945c10-76cb-427d-ffc5-f5c673894551"
      },
      "outputs": [
        {
          "output_type": "stream",
          "name": "stderr",
          "text": [
            "<ipython-input-44-f0b23f7d6b7c>:5: UserWarning: color is redundantly defined by the 'color' keyword argument and the fmt string \"k-\" (-> color='k'). The keyword argument will take precedence.\n",
            "  plt.plot(x_lim, y_lim, 'k-', color = 'black', label = '1:1 line')\n"
          ]
        },
        {
          "output_type": "execute_result",
          "data": {
            "text/plain": [
              "<matplotlib.legend.Legend at 0x7f95eae84f40>"
            ]
          },
          "metadata": {},
          "execution_count": 44
        },
        {
          "output_type": "display_data",
          "data": {
            "text/plain": [
              "<Figure size 400x400 with 1 Axes>"
            ],
            "image/png": "[encoded data removed]"
          },
          "metadata": {}
        }
      ],
      "source": [
        "pyplot.figure(figsize=(4,4), dpi=100)\n",
        "plt.scatter(inv_te_y, inv_te_yp)\n",
        "y_lim = plt.ylim([0, 6000])\n",
        "x_lim = plt.ylim([0, 6000])\n",
        "plt.plot(x_lim, y_lim, 'k-', color = 'black', label = '1:1 line')\n",
        "plt.ylim(y_lim)\n",
        "plt.xlim(x_lim)\n",
        "#plt.title('Testing')\n",
        "plt.xlabel(\"Observed (m^3/s)\")\n",
        "plt.ylabel(\"Simulated (m^3/s)\")\n",
        "plt.legend()"
      ]
    },
    {
      "cell_type": "code",
      "execution_count": null,
      "metadata": {
        "colab": {
          "base_uri": "https://localhost:8080/"
        },
        "id": "GO9tBjYE_QB5",
        "outputId": "8f0517f3-46d4-4bf0-b4ea-a327e88422f1"
      },
      "outputs": [
        {
          "output_type": "stream",
          "name": "stdout",
          "text": [
            "Looking in indexes: https://pypi.org/simple, https://us-python.pkg.dev/colab-wheels/public/simple/\n",
            "Collecting hydroeval\n",
            "  Downloading hydroeval-0.1.0-py3-none-any.whl (22 kB)\n",
            "Requirement already satisfied: numpy in /usr/local/lib/python3.9/dist-packages (from hydroeval) (1.22.4)\n",
            "Installing collected packages: hydroeval\n",
            "Successfully installed hydroeval-0.1.0\n",
            "MSE = 0.00013584961695415078\n",
            "MAE = 0.0036989363889952855\n",
            "R2 Score = 0.9363625281896654\n",
            "nse_train= [0.91079928]\n",
            "RMSE_train = 75.98331562212019\n",
            "MSE = 0.00011733713849497286\n",
            "MAE = 0.0048226990792501045\n",
            "R2 Score = 0.8913638675854618\n",
            "nse_val= [0.89136387]\n",
            "RMSE_val = 62.14739500402364\n",
            "MSE = 0.00017539859957369346\n",
            "MAE = 0.004699682653908966\n",
            "R2 Score = 0.8975762454821572\n",
            "nse_test= [0.93636253]\n",
            "RMSE_test = 66.87047338357586\n"
          ]
        }
      ],
      "source": [
        "!pip install hydroeval\n",
        "from hydroeval import evaluator, nse\n",
        "from sklearn.metrics import mean_squared_error as mse\n",
        "from sklearn.metrics import mean_absolute_error as mae\n",
        "from sklearn.metrics import r2_score\n",
        "from math import sqrt\n",
        "\n",
        "print('MSE =', mse(y_test, te_yp))\n",
        "print('MAE =', mae(y_test, te_yp))\n",
        "print('R2 Score =', r2_score(y_test, te_yp))\n",
        "print('nse_train=', evaluator(nse,tr_yp, y_train))\n",
        "print('RMSE_train =', sqrt(mse(inv_tr_y,inv_tr_yp)))\n",
        "\n",
        "print('MSE =', mse(y_val, val_yp))\n",
        "print('MAE =', mae(y_val, val_yp))\n",
        "print('R2 Score =', r2_score(y_val, val_yp))\n",
        "print('nse_val=', evaluator(nse,val_yp, y_val))\n",
        "print('RMSE_val =', sqrt(mse(inv_val_y,inv_val_yp)))\n",
        "\n",
        "\n",
        "print('MSE =', mse(tr_yp, y_train))\n",
        "print('MAE =', mae(tr_yp, y_train))\n",
        "print('R2 Score =', r2_score(tr_yp, y_train))\n",
        "print('nse_test=', evaluator(nse,te_yp, y_test))\n",
        "print('RMSE_test =', sqrt(mse(inv_te_y,inv_te_yp)))\n",
        "\n"
      ]
    },
    {
      "cell_type": "code",
      "execution_count": null,
      "metadata": {
        "colab": {
          "base_uri": "https://localhost:8080/",
          "height": 423
        },
        "id": "CNrUiN1zx81m",
        "outputId": "766e7b97-0695-4339-b16c-a23059af291e"
      },
      "outputs": [
        {
          "output_type": "execute_result",
          "data": {
            "text/plain": [
              "      y_test_prediction  y_test_Observed\n",
              "0             52.655519        57.175926\n",
              "1             51.335441        57.175926\n",
              "2             51.488071         7.291667\n",
              "3              7.917026         7.291667\n",
              "4             11.103132         0.000000\n",
              "...                 ...              ...\n",
              "1817          27.638535        28.703703\n",
              "1818          23.303652         0.000000\n",
              "1819           0.215155        12.152778\n",
              "1820          16.380900        17.129629\n",
              "1821          19.048547        17.129629\n",
              "\n",
              "[1822 rows x 2 columns]"
            ],
            "text/html": [
              "\n",
              "  <div id=\"df-9718986b-edda-4167-8aac-20dbc2c1f112\">\n",
              "    <div class=\"colab-df-container\">\n",
              "      <div>\n",
              "<style scoped>\n",
              "    .dataframe tbody tr th:only-of-type {\n",
              "        vertical-align: middle;\n",
              "    }\n",
              "\n",
              "    .dataframe tbody tr th {\n",
              "        vertical-align: top;\n",
              "    }\n",
              "\n",
              "    .dataframe thead th {\n",
              "        text-align: right;\n",
              "    }\n",
              "</style>\n",
              "<table border=\"1\" class=\"dataframe\">\n",
              "  <thead>\n",
              "    <tr style=\"text-align: right;\">\n",
              "      <th></th>\n",
              "      <th>y_test_prediction</th>\n",
              "      <th>y_test_Observed</th>\n",
              "    </tr>\n",
              "  </thead>\n",
              "  <tbody>\n",
              "    <tr>\n",
              "      <th>0</th>\n",
              "      <td>52.655519</td>\n",
              "      <td>57.175926</td>\n",
              "    </tr>\n",
              "    <tr>\n",
              "      <th>1</th>\n",
              "      <td>51.335441</td>\n",
              "      <td>57.175926</td>\n",
              "    </tr>\n",
              "    <tr>\n",
              "      <th>2</th>\n",
              "      <td>51.488071</td>\n",
              "      <td>7.291667</td>\n",
              "    </tr>\n",
              "    <tr>\n",
              "      <th>3</th>\n",
              "      <td>7.917026</td>\n",
              "      <td>7.291667</td>\n",
              "    </tr>\n",
              "    <tr>\n",
              "      <th>4</th>\n",
              "      <td>11.103132</td>\n",
              "      <td>0.000000</td>\n",
              "    </tr>\n",
              "    <tr>\n",
              "      <th>...</th>\n",
              "      <td>...</td>\n",
              "      <td>...</td>\n",
              "    </tr>\n",
              "    <tr>\n",
              "      <th>1817</th>\n",
              "      <td>27.638535</td>\n",
              "      <td>28.703703</td>\n",
              "    </tr>\n",
              "    <tr>\n",
              "      <th>1818</th>\n",
              "      <td>23.303652</td>\n",
              "      <td>0.000000</td>\n",
              "    </tr>\n",
              "    <tr>\n",
              "      <th>1819</th>\n",
              "      <td>0.215155</td>\n",
              "      <td>12.152778</td>\n",
              "    </tr>\n",
              "    <tr>\n",
              "      <th>1820</th>\n",
              "      <td>16.380900</td>\n",
              "      <td>17.129629</td>\n",
              "    </tr>\n",
              "    <tr>\n",
              "      <th>1821</th>\n",
              "      <td>19.048547</td>\n",
              "      <td>17.129629</td>\n",
              "    </tr>\n",
              "  </tbody>\n",
              "</table>\n",
              "<p>1822 rows × 2 columns</p>\n",
              "</div>\n",
              "      <button class=\"colab-df-convert\" onclick=\"convertToInteractive('df-9718986b-edda-4167-8aac-20dbc2c1f112')\"\n",
              "              title=\"Convert this dataframe to an interactive table.\"\n",
              "              style=\"display:none;\">\n",
              "        \n",
              "  <svg xmlns=\"http://www.w3.org/2000/svg\" height=\"24px\"viewBox=\"0 0 24 24\"\n",
              "       width=\"24px\">\n",
              "    <path d=\"M0 0h24v24H0V0z\" fill=\"none\"/>\n",
              "    <path d=\"M18.56 5.44l.94 2.06.94-2.06 2.06-.94-2.06-.94-.94-2.06-.94 2.06-2.06.94zm-11 1L8.5 8.5l.94-2.06 2.06-.94-2.06-.94L8.5 2.5l-.94 2.06-2.06.94zm10 10l.94 2.06.94-2.06 2.06-.94-2.06-.94-.94-2.06-.94 2.06-2.06.94z\"/><path d=\"M17.41 7.96l-1.37-1.37c-.4-.4-.92-.59-1.43-.59-.52 0-1.04.2-1.43.59L10.3 9.45l-7.72 7.72c-.78.78-.78 2.05 0 2.83L4 21.41c.39.39.9.59 1.41.59.51 0 1.02-.2 1.41-.59l7.78-7.78 2.81-2.81c.8-.78.8-2.07 0-2.86zM5.41 20L4 18.59l7.72-7.72 1.47 1.35L5.41 20z\"/>\n",
              "  </svg>\n",
              "      </button>\n",
              "      \n",
              "  <style>\n",
              "    .colab-df-container {\n",
              "      display:flex;\n",
              "      flex-wrap:wrap;\n",
              "      gap: 12px;\n",
              "    }\n",
              "\n",
              "    .colab-df-convert {\n",
              "      background-color: #E8F0FE;\n",
              "      border: none;\n",
              "      border-radius: 50%;\n",
              "      cursor: pointer;\n",
              "      display: none;\n",
              "      fill: #1967D2;\n",
              "      height: 32px;\n",
              "      padding: 0 0 0 0;\n",
              "      width: 32px;\n",
              "    }\n",
              "\n",
              "    .colab-df-convert:hover {\n",
              "      background-color: #E2EBFA;\n",
              "      box-shadow: 0px 1px 2px rgba(60, 64, 67, 0.3), 0px 1px 3px 1px rgba(60, 64, 67, 0.15);\n",
              "      fill: #174EA6;\n",
              "    }\n",
              "\n",
              "    [theme=dark] .colab-df-convert {\n",
              "      background-color: #3B4455;\n",
              "      fill: #D2E3FC;\n",
              "    }\n",
              "\n",
              "    [theme=dark] .colab-df-convert:hover {\n",
              "      background-color: #434B5C;\n",
              "      box-shadow: 0px 1px 3px 1px rgba(0, 0, 0, 0.15);\n",
              "      filter: drop-shadow(0px 1px 2px rgba(0, 0, 0, 0.3));\n",
              "      fill: #FFFFFF;\n",
              "    }\n",
              "  </style>\n",
              "\n",
              "      <script>\n",
              "        const buttonEl =\n",
              "          document.querySelector('#df-9718986b-edda-4167-8aac-20dbc2c1f112 button.colab-df-convert');\n",
              "        buttonEl.style.display =\n",
              "          google.colab.kernel.accessAllowed ? 'block' : 'none';\n",
              "\n",
              "        async function convertToInteractive(key) {\n",
              "          const element = document.querySelector('#df-9718986b-edda-4167-8aac-20dbc2c1f112');\n",
              "          const dataTable =\n",
              "            await google.colab.kernel.invokeFunction('convertToInteractive',\n",
              "                                                     [key], {});\n",
              "          if (!dataTable) return;\n",
              "\n",
              "          const docLinkHtml = 'Like what you see? Visit the ' +\n",
              "            '<a target=\"_blank\" href=https://colab.research.google.com/notebooks/data_table.ipynb>data table notebook</a>'\n",
              "            + ' to learn more about interactive tables.';\n",
              "          element.innerHTML = '';\n",
              "          dataTable['output_type'] = 'display_data';\n",
              "          await google.colab.output.renderOutput(dataTable, element);\n",
              "          const docLink = document.createElement('div');\n",
              "          docLink.innerHTML = docLinkHtml;\n",
              "          element.appendChild(docLink);\n",
              "        }\n",
              "      </script>\n",
              "    </div>\n",
              "  </div>\n",
              "  "
            ]
          },
          "metadata": {},
          "execution_count": 46
        }
      ],
      "source": [
        "# l=np.array([inv_tr_y, inv_tr_yp])\n",
        "# dataset_train=pd.DataFrame(l)\n",
        "# dataset_train=dataset_train.transpose()\n",
        "# dataset_train.columns = ['Predicted', 'Observed']\n",
        "\n",
        "test_result=np.array([inv_te_yp, inv_te_y])\n",
        "df_test=pd.DataFrame(test_result)\n",
        "df_test=df_test.transpose()\n",
        "df_test.columns = ['y_test_prediction','y_test_Observed']\n",
        "#df_test.tail(1819)\n",
        "final_test=df_test.drop(df_test.index[1822:])\n",
        "final_test"
      ]
    },
    {
      "cell_type": "code",
      "execution_count": null,
      "metadata": {
        "id": "f6iuQK0xx81n"
      },
      "outputs": [],
      "source": [
        "final_test.to_csv('/content/drive/MyDrive/Colab Notebooks/results/test_SVR_1day.csv')"
      ]
    },
    {
      "cell_type": "code",
      "execution_count": null,
      "metadata": {
        "id": "onQcayhPx81n",
        "colab": {
          "base_uri": "https://localhost:8080/",
          "height": 359
        },
        "outputId": "22ea28eb-337f-4c17-b4c6-2eb687172c2e"
      },
      "outputs": [
        {
          "output_type": "error",
          "ename": "OSError",
          "evalue": "ignored",
          "traceback": [
            "\u001b[0;31m---------------------------------------------------------------------------\u001b[0m",
            "\u001b[0;31mOSError\u001b[0m                                   Traceback (most recent call last)",
            "\u001b[0;32m<ipython-input-47-26c0c11eb0e2>\u001b[0m in \u001b[0;36m<cell line: 5>\u001b[0;34m()\u001b[0m\n\u001b[1;32m      3\u001b[0m \u001b[0;31m#pd.DataFrame(final_test).to_csv(\"test_SVR.xlsx\")\u001b[0m\u001b[0;34m\u001b[0m\u001b[0;34m\u001b[0m\u001b[0m\n\u001b[1;32m      4\u001b[0m \u001b[0;31m#pd.DataFrame(inv_tr_yp).to_csv(\"train_SVR.csv\")\u001b[0m\u001b[0;34m\u001b[0m\u001b[0;34m\u001b[0m\u001b[0m\n\u001b[0;32m----> 5\u001b[0;31m \u001b[0mfinal_test\u001b[0m\u001b[0;34m.\u001b[0m\u001b[0mto_csv\u001b[0m\u001b[0;34m(\u001b[0m\u001b[0;34m'/content/gdrive/MyDrive/Colab Notebooks/results/test_SVR_1day.csv'\u001b[0m\u001b[0;34m)\u001b[0m\u001b[0;34m\u001b[0m\u001b[0;34m\u001b[0m\u001b[0m\n\u001b[0m",
            "\u001b[0;32m/usr/local/lib/python3.9/dist-packages/pandas/util/_decorators.py\u001b[0m in \u001b[0;36mwrapper\u001b[0;34m(*args, **kwargs)\u001b[0m\n\u001b[1;32m    209\u001b[0m                 \u001b[0;32melse\u001b[0m\u001b[0;34m:\u001b[0m\u001b[0;34m\u001b[0m\u001b[0;34m\u001b[0m\u001b[0m\n\u001b[1;32m    210\u001b[0m                     \u001b[0mkwargs\u001b[0m\u001b[0;34m[\u001b[0m\u001b[0mnew_arg_name\u001b[0m\u001b[0;34m]\u001b[0m \u001b[0;34m=\u001b[0m \u001b[0mnew_arg_value\u001b[0m\u001b[0;34m\u001b[0m\u001b[0;34m\u001b[0m\u001b[0m\n\u001b[0;32m--> 211\u001b[0;31m             \u001b[0;32mreturn\u001b[0m \u001b[0mfunc\u001b[0m\u001b[0;34m(\u001b[0m\u001b[0;34m*\u001b[0m\u001b[0margs\u001b[0m\u001b[0;34m,\u001b[0m \u001b[0;34m**\u001b[0m\u001b[0mkwargs\u001b[0m\u001b[0;34m)\u001b[0m\u001b[0;34m\u001b[0m\u001b[0;34m\u001b[0m\u001b[0m\n\u001b[0m\u001b[1;32m    212\u001b[0m \u001b[0;34m\u001b[0m\u001b[0m\n\u001b[1;32m    213\u001b[0m         \u001b[0;32mreturn\u001b[0m \u001b[0mcast\u001b[0m\u001b[0;34m(\u001b[0m\u001b[0mF\u001b[0m\u001b[0;34m,\u001b[0m \u001b[0mwrapper\u001b[0m\u001b[0;34m)\u001b[0m\u001b[0;34m\u001b[0m\u001b[0;34m\u001b[0m\u001b[0m\n",
            "\u001b[0;32m/usr/local/lib/python3.9/dist-packages/pandas/core/generic.py\u001b[0m in \u001b[0;36mto_csv\u001b[0;34m(self, path_or_buf, sep, na_rep, float_format, columns, header, index, index_label, mode, encoding, compression, quoting, quotechar, lineterminator, chunksize, date_format, doublequote, escapechar, decimal, errors, storage_options)\u001b[0m\n\u001b[1;32m   3718\u001b[0m         )\n\u001b[1;32m   3719\u001b[0m \u001b[0;34m\u001b[0m\u001b[0m\n\u001b[0;32m-> 3720\u001b[0;31m         return DataFrameRenderer(formatter).to_csv(\n\u001b[0m\u001b[1;32m   3721\u001b[0m             \u001b[0mpath_or_buf\u001b[0m\u001b[0;34m,\u001b[0m\u001b[0;34m\u001b[0m\u001b[0;34m\u001b[0m\u001b[0m\n\u001b[1;32m   3722\u001b[0m             \u001b[0mlineterminator\u001b[0m\u001b[0;34m=\u001b[0m\u001b[0mlineterminator\u001b[0m\u001b[0;34m,\u001b[0m\u001b[0;34m\u001b[0m\u001b[0;34m\u001b[0m\u001b[0m\n",
            "\u001b[0;32m/usr/local/lib/python3.9/dist-packages/pandas/util/_decorators.py\u001b[0m in \u001b[0;36mwrapper\u001b[0;34m(*args, **kwargs)\u001b[0m\n\u001b[1;32m    209\u001b[0m                 \u001b[0;32melse\u001b[0m\u001b[0;34m:\u001b[0m\u001b[0;34m\u001b[0m\u001b[0;34m\u001b[0m\u001b[0m\n\u001b[1;32m    210\u001b[0m                     \u001b[0mkwargs\u001b[0m\u001b[0;34m[\u001b[0m\u001b[0mnew_arg_name\u001b[0m\u001b[0;34m]\u001b[0m \u001b[0;34m=\u001b[0m \u001b[0mnew_arg_value\u001b[0m\u001b[0;34m\u001b[0m\u001b[0;34m\u001b[0m\u001b[0m\n\u001b[0;32m--> 211\u001b[0;31m             \u001b[0;32mreturn\u001b[0m \u001b[0mfunc\u001b[0m\u001b[0;34m(\u001b[0m\u001b[0;34m*\u001b[0m\u001b[0margs\u001b[0m\u001b[0;34m,\u001b[0m \u001b[0;34m**\u001b[0m\u001b[0mkwargs\u001b[0m\u001b[0;34m)\u001b[0m\u001b[0;34m\u001b[0m\u001b[0;34m\u001b[0m\u001b[0m\n\u001b[0m\u001b[1;32m    212\u001b[0m \u001b[0;34m\u001b[0m\u001b[0m\n\u001b[1;32m    213\u001b[0m         \u001b[0;32mreturn\u001b[0m \u001b[0mcast\u001b[0m\u001b[0;34m(\u001b[0m\u001b[0mF\u001b[0m\u001b[0;34m,\u001b[0m \u001b[0mwrapper\u001b[0m\u001b[0;34m)\u001b[0m\u001b[0;34m\u001b[0m\u001b[0;34m\u001b[0m\u001b[0m\n",
            "\u001b[0;32m/usr/local/lib/python3.9/dist-packages/pandas/io/formats/format.py\u001b[0m in \u001b[0;36mto_csv\u001b[0;34m(self, path_or_buf, encoding, sep, columns, index_label, mode, compression, quoting, quotechar, lineterminator, chunksize, date_format, doublequote, escapechar, errors, storage_options)\u001b[0m\n\u001b[1;32m   1187\u001b[0m             \u001b[0mformatter\u001b[0m\u001b[0;34m=\u001b[0m\u001b[0mself\u001b[0m\u001b[0;34m.\u001b[0m\u001b[0mfmt\u001b[0m\u001b[0;34m,\u001b[0m\u001b[0;34m\u001b[0m\u001b[0;34m\u001b[0m\u001b[0m\n\u001b[1;32m   1188\u001b[0m         )\n\u001b[0;32m-> 1189\u001b[0;31m         \u001b[0mcsv_formatter\u001b[0m\u001b[0;34m.\u001b[0m\u001b[0msave\u001b[0m\u001b[0;34m(\u001b[0m\u001b[0;34m)\u001b[0m\u001b[0;34m\u001b[0m\u001b[0;34m\u001b[0m\u001b[0m\n\u001b[0m\u001b[1;32m   1190\u001b[0m \u001b[0;34m\u001b[0m\u001b[0m\n\u001b[1;32m   1191\u001b[0m         \u001b[0;32mif\u001b[0m \u001b[0mcreated_buffer\u001b[0m\u001b[0;34m:\u001b[0m\u001b[0;34m\u001b[0m\u001b[0;34m\u001b[0m\u001b[0m\n",
            "\u001b[0;32m/usr/local/lib/python3.9/dist-packages/pandas/io/formats/csvs.py\u001b[0m in \u001b[0;36msave\u001b[0;34m(self)\u001b[0m\n\u001b[1;32m    239\u001b[0m         \"\"\"\n\u001b[1;32m    240\u001b[0m         \u001b[0;31m# apply compression and byte/text conversion\u001b[0m\u001b[0;34m\u001b[0m\u001b[0;34m\u001b[0m\u001b[0m\n\u001b[0;32m--> 241\u001b[0;31m         with get_handle(\n\u001b[0m\u001b[1;32m    242\u001b[0m             \u001b[0mself\u001b[0m\u001b[0;34m.\u001b[0m\u001b[0mfilepath_or_buffer\u001b[0m\u001b[0;34m,\u001b[0m\u001b[0;34m\u001b[0m\u001b[0;34m\u001b[0m\u001b[0m\n\u001b[1;32m    243\u001b[0m             \u001b[0mself\u001b[0m\u001b[0;34m.\u001b[0m\u001b[0mmode\u001b[0m\u001b[0;34m,\u001b[0m\u001b[0;34m\u001b[0m\u001b[0;34m\u001b[0m\u001b[0m\n",
            "\u001b[0;32m/usr/local/lib/python3.9/dist-packages/pandas/io/common.py\u001b[0m in \u001b[0;36mget_handle\u001b[0;34m(path_or_buf, mode, encoding, compression, memory_map, is_text, errors, storage_options)\u001b[0m\n\u001b[1;32m    732\u001b[0m     \u001b[0;31m# Only for write methods\u001b[0m\u001b[0;34m\u001b[0m\u001b[0;34m\u001b[0m\u001b[0m\n\u001b[1;32m    733\u001b[0m     \u001b[0;32mif\u001b[0m \u001b[0;34m\"r\"\u001b[0m \u001b[0;32mnot\u001b[0m \u001b[0;32min\u001b[0m \u001b[0mmode\u001b[0m \u001b[0;32mand\u001b[0m \u001b[0mis_path\u001b[0m\u001b[0;34m:\u001b[0m\u001b[0;34m\u001b[0m\u001b[0;34m\u001b[0m\u001b[0m\n\u001b[0;32m--> 734\u001b[0;31m         \u001b[0mcheck_parent_directory\u001b[0m\u001b[0;34m(\u001b[0m\u001b[0mstr\u001b[0m\u001b[0;34m(\u001b[0m\u001b[0mhandle\u001b[0m\u001b[0;34m)\u001b[0m\u001b[0;34m)\u001b[0m\u001b[0;34m\u001b[0m\u001b[0;34m\u001b[0m\u001b[0m\n\u001b[0m\u001b[1;32m    735\u001b[0m \u001b[0;34m\u001b[0m\u001b[0m\n\u001b[1;32m    736\u001b[0m     \u001b[0;32mif\u001b[0m \u001b[0mcompression\u001b[0m\u001b[0;34m:\u001b[0m\u001b[0;34m\u001b[0m\u001b[0;34m\u001b[0m\u001b[0m\n",
            "\u001b[0;32m/usr/local/lib/python3.9/dist-packages/pandas/io/common.py\u001b[0m in \u001b[0;36mcheck_parent_directory\u001b[0;34m(path)\u001b[0m\n\u001b[1;32m    595\u001b[0m     \u001b[0mparent\u001b[0m \u001b[0;34m=\u001b[0m \u001b[0mPath\u001b[0m\u001b[0;34m(\u001b[0m\u001b[0mpath\u001b[0m\u001b[0;34m)\u001b[0m\u001b[0;34m.\u001b[0m\u001b[0mparent\u001b[0m\u001b[0;34m\u001b[0m\u001b[0;34m\u001b[0m\u001b[0m\n\u001b[1;32m    596\u001b[0m     \u001b[0;32mif\u001b[0m \u001b[0;32mnot\u001b[0m \u001b[0mparent\u001b[0m\u001b[0;34m.\u001b[0m\u001b[0mis_dir\u001b[0m\u001b[0;34m(\u001b[0m\u001b[0;34m)\u001b[0m\u001b[0;34m:\u001b[0m\u001b[0;34m\u001b[0m\u001b[0;34m\u001b[0m\u001b[0m\n\u001b[0;32m--> 597\u001b[0;31m         \u001b[0;32mraise\u001b[0m \u001b[0mOSError\u001b[0m\u001b[0;34m(\u001b[0m\u001b[0;34mrf\"Cannot save file into a non-existent directory: '{parent}'\"\u001b[0m\u001b[0;34m)\u001b[0m\u001b[0;34m\u001b[0m\u001b[0;34m\u001b[0m\u001b[0m\n\u001b[0m\u001b[1;32m    598\u001b[0m \u001b[0;34m\u001b[0m\u001b[0m\n\u001b[1;32m    599\u001b[0m \u001b[0;34m\u001b[0m\u001b[0m\n",
            "\u001b[0;31mOSError\u001b[0m: Cannot save file into a non-existent directory: '/content/gdrive/MyDrive/Colab Notebooks/results'"
          ]
        }
      ],
      "source": [
        "# to save as csv file\n",
        "#final_test.to_excel('testSVM_1DAY.xlsx')\n",
        "#pd.DataFrame(final_test).to_csv(\"test_SVR.xlsx\")\n",
        "#pd.DataFrame(inv_tr_yp).to_csv(\"train_SVR.csv\")\n"
      ]
    },
    {
      "cell_type": "code",
      "execution_count": null,
      "metadata": {
        "id": "m3hGulzpx81n"
      },
      "outputs": [],
      "source": []
    },
    {
      "cell_type": "code",
      "execution_count": null,
      "metadata": {
        "id": "pHVzpEJOx81o"
      },
      "outputs": [],
      "source": [
        "#grid search"
      ]
    },
    {
      "cell_type": "code",
      "execution_count": null,
      "metadata": {
        "id": "u8jIIpBR9JC0"
      },
      "outputs": [],
      "source": [
        "from sklearn.model_selection import GridSearchCV"
      ]
    },
    {
      "cell_type": "code",
      "execution_count": null,
      "metadata": {
        "id": "gOV9g2Z19JJv"
      },
      "outputs": [],
      "source": [
        "param = {'kernel' : ('linear', 'poly', 'rbf', 'sigmoid'),'C' : [1,5,10],'degree' : [3,8],'gamma' : ('auto','scale')},\n",
        "modelsvr = SVR()\n",
        "grids = GridSearchCV(modelsvr,param,cv=4)\n",
        "\n",
        "grids.fit(x_train,y_train)\n"
      ]
    },
    {
      "cell_type": "code",
      "execution_count": null,
      "metadata": {
        "id": "hnDlaBiPx81p"
      },
      "outputs": [],
      "source": [
        "\n",
        "pred_svm = grids.predict(x_test)\n",
        "pred_svm_train = grids.predict(x_train)"
      ]
    },
    {
      "cell_type": "code",
      "execution_count": null,
      "metadata": {
        "id": "uJIjY0idx81p"
      },
      "outputs": [],
      "source": [
        "grids.best_params_"
      ]
    },
    {
      "cell_type": "code",
      "execution_count": null,
      "metadata": {
        "id": "l1tvnIlhx81p"
      },
      "outputs": [],
      "source": []
    },
    {
      "cell_type": "code",
      "execution_count": null,
      "metadata": {
        "id": "49g_A_5ox81p"
      },
      "outputs": [],
      "source": []
    },
    {
      "cell_type": "code",
      "execution_count": null,
      "metadata": {
        "id": "ALvJ0Avdx81p"
      },
      "outputs": [],
      "source": []
    }
  ],
  "metadata": {
    "colab": {
      "provenance": []
    },
    "kernelspec": {
      "display_name": "Python 3",
      "language": "python",
      "name": "python3"
    },
    "language_info": {
      "codemirror_mode": {
        "name": "ipython",
        "version": 3
      },
      "file_extension": ".py",
      "mimetype": "text/x-python",
      "name": "python",
      "nbconvert_exporter": "python",
      "pygments_lexer": "ipython3",
      "version": "3.8.8"
    }
  },
  "nbformat": 4,
  "nbformat_minor": 0
}